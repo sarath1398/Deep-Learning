{
  "nbformat": 4,
  "nbformat_minor": 0,
  "metadata": {
    "colab": {
      "name": "SampleMNIST.ipynb",
      "provenance": [],
      "collapsed_sections": []
    },
    "kernelspec": {
      "name": "python3",
      "display_name": "Python 3"
    }
  },
  "cells": [
    {
      "cell_type": "code",
      "metadata": {
        "id": "wWecUPKDxsA9"
      },
      "source": [
        "%matplotlib inline"
      ],
      "execution_count": 1,
      "outputs": []
    },
    {
      "cell_type": "code",
      "metadata": {
        "id": "qppgq1Iaw5Y2"
      },
      "source": [
        "import keras\n",
        "import tensorflow as tf\n",
        "import numpy as np\n",
        "import pandas as pd\n",
        "import matplotlib.pyplot as plt"
      ],
      "execution_count": 2,
      "outputs": []
    },
    {
      "cell_type": "markdown",
      "metadata": {
        "id": "8yQjbdtP7Jql"
      },
      "source": [
        "Load the MNIST dataset from Keras"
      ]
    },
    {
      "cell_type": "code",
      "metadata": {
        "id": "R73LrCNxxR5m"
      },
      "source": [
        "(x_train,y_train),(x_test,y_test)=tf.keras.datasets.mnist.load_data()"
      ],
      "execution_count": 3,
      "outputs": []
    },
    {
      "cell_type": "markdown",
      "metadata": {
        "id": "jaXG4hl42SaL"
      },
      "source": [
        "Sample data\n"
      ]
    },
    {
      "cell_type": "code",
      "metadata": {
        "id": "VXew1dRAx8uh",
        "outputId": "93b9bdfc-9487-4d2a-d7f3-7a6d875d3402",
        "colab": {
          "base_uri": "https://localhost:8080/",
          "height": 300
        }
      },
      "source": [
        "print(plt.imshow(x_train[0],cmap='gray',interpolation='antialiased'))\n",
        "print(y_train[0])"
      ],
      "execution_count": 4,
      "outputs": [
        {
          "output_type": "stream",
          "text": [
            "AxesImage(54,36;334.8x217.44)\n",
            "5\n"
          ],
          "name": "stdout"
        },
        {
          "output_type": "display_data",
          "data": {
            "image/png": "[encoded data removed]",
            "text/plain": [
              "<Figure size 432x288 with 1 Axes>"
            ]
          },
          "metadata": {
            "tags": [],
            "needs_background": "light"
          }
        }
      ]
    },
    {
      "cell_type": "markdown",
      "metadata": {
        "id": "htXZjpDO7Q-u"
      },
      "source": [
        "Reshape the 2D vector into a 1D vector"
      ]
    },
    {
      "cell_type": "code",
      "metadata": {
        "id": "iucKX5mVjh8H"
      },
      "source": [
        "x_train=x_train.reshape(60000,784)\n",
        "x_test=x_test.reshape(10000,784)"
      ],
      "execution_count": 5,
      "outputs": []
    },
    {
      "cell_type": "markdown",
      "metadata": {
        "id": "Td4QWLDT4wE5"
      },
      "source": [
        "Normalize Data"
      ]
    },
    {
      "cell_type": "code",
      "metadata": {
        "id": "oUITHHKy0Bgv"
      },
      "source": [
        "x_train=x_train.astype('float32')\n",
        "x_test=x_test.astype('float32')\n",
        "\n",
        "x_train=x_train/255\n",
        "x_test=x_test/255"
      ],
      "execution_count": 6,
      "outputs": []
    },
    {
      "cell_type": "markdown",
      "metadata": {
        "id": "DlxVivRl7cqk"
      },
      "source": [
        "One Hot Encoding the Targets"
      ]
    },
    {
      "cell_type": "code",
      "metadata": {
        "id": "JfSd3zhZfNZx"
      },
      "source": [
        "from keras.utils import np_utils\n",
        "\n",
        "y_train = np_utils.to_categorical(y_train, 10)\n",
        "y_test = np_utils.to_categorical(y_test, 10)"
      ],
      "execution_count": 7,
      "outputs": []
    },
    {
      "cell_type": "markdown",
      "metadata": {
        "id": "sBMXhrtf70Fd"
      },
      "source": [
        "Developing the Neural Network"
      ]
    },
    {
      "cell_type": "code",
      "metadata": {
        "id": "SPKMZPA95Cx-"
      },
      "source": [
        "from keras.models import Sequential\n",
        "from keras.layers import Dense,Conv2D,Flatten,MaxPooling2D,Dropout,Activation\n",
        "\n",
        "model=Sequential()"
      ],
      "execution_count": 8,
      "outputs": []
    },
    {
      "cell_type": "markdown",
      "metadata": {
        "id": "qvcm3TGiezym"
      },
      "source": [
        "Input Layer"
      ]
    },
    {
      "cell_type": "code",
      "metadata": {
        "id": "Em2e69PIZUNs"
      },
      "source": [
        "model.add(Dense(784,input_shape=(784,),activation='relu'))\n",
        "model.add(Dropout(0.1))"
      ],
      "execution_count": 9,
      "outputs": []
    },
    {
      "cell_type": "markdown",
      "metadata": {
        "id": "GcGTEtKUfJKF"
      },
      "source": [
        "Hidden Layer 1"
      ]
    },
    {
      "cell_type": "code",
      "metadata": {
        "id": "re176lMBfMS2"
      },
      "source": [
        "model.add(Dense(512,activation='relu'))\n",
        "model.add(Dropout(0.2))"
      ],
      "execution_count": 10,
      "outputs": []
    },
    {
      "cell_type": "markdown",
      "metadata": {
        "id": "057SFH1RzM6i"
      },
      "source": [
        "Hidden Layer 2\n"
      ]
    },
    {
      "cell_type": "code",
      "metadata": {
        "id": "WpXig17fzIB4"
      },
      "source": [
        "model.add(Dense(256,activation='relu'))\n",
        "model.add(Dropout(0.3))"
      ],
      "execution_count": 11,
      "outputs": []
    },
    {
      "cell_type": "markdown",
      "metadata": {
        "id": "qVjBlFAt7iv2"
      },
      "source": [
        "Hidden Layer 3"
      ]
    },
    {
      "cell_type": "code",
      "metadata": {
        "id": "khA-YTB5zP38"
      },
      "source": [
        "model.add(Dense(128,activation='relu'))\n",
        "model.add(Dropout(0.4))"
      ],
      "execution_count": 12,
      "outputs": []
    },
    {
      "cell_type": "markdown",
      "metadata": {
        "id": "IuNcnI6-gg1Y"
      },
      "source": [
        "Output Layer"
      ]
    },
    {
      "cell_type": "code",
      "metadata": {
        "id": "ecu8_7OegGok"
      },
      "source": [
        "model.add(Dense(10,activation='softmax'))"
      ],
      "execution_count": 13,
      "outputs": []
    },
    {
      "cell_type": "markdown",
      "metadata": {
        "id": "A9HUymnq6B0U"
      },
      "source": [
        "Training the Model"
      ]
    },
    {
      "cell_type": "code",
      "metadata": {
        "id": "snVLcXK7gO0b",
        "outputId": "12eba94d-55c6-402c-d0c2-593f98230060",
        "colab": {
          "base_uri": "https://localhost:8080/"
        }
      },
      "source": [
        "model.summary()"
      ],
      "execution_count": 14,
      "outputs": [
        {
          "output_type": "stream",
          "text": [
            "Model: \"sequential\"\n",
            "_________________________________________________________________\n",
            "Layer (type)                 Output Shape              Param #   \n",
            "=================================================================\n",
            "dense (Dense)                (None, 784)               615440    \n",
            "_________________________________________________________________\n",
            "dropout (Dropout)            (None, 784)               0         \n",
            "_________________________________________________________________\n",
            "dense_1 (Dense)              (None, 512)               401920    \n",
            "_________________________________________________________________\n",
            "dropout_1 (Dropout)          (None, 512)               0         \n",
            "_________________________________________________________________\n",
            "dense_2 (Dense)              (None, 256)               131328    \n",
            "_________________________________________________________________\n",
            "dropout_2 (Dropout)          (None, 256)               0         \n",
            "_________________________________________________________________\n",
            "dense_3 (Dense)              (None, 128)               32896     \n",
            "_________________________________________________________________\n",
            "dropout_3 (Dropout)          (None, 128)               0         \n",
            "_________________________________________________________________\n",
            "dense_4 (Dense)              (None, 10)                1290      \n",
            "=================================================================\n",
            "Total params: 1,182,874\n",
            "Trainable params: 1,182,874\n",
            "Non-trainable params: 0\n",
            "_________________________________________________________________\n"
          ],
          "name": "stdout"
        }
      ]
    },
    {
      "cell_type": "code",
      "metadata": {
        "id": "TziVCIA5hpdn"
      },
      "source": [
        "model.compile(optimizer='adam',loss='categorical_crossentropy',metrics=['accuracy'])"
      ],
      "execution_count": 15,
      "outputs": []
    },
    {
      "cell_type": "code",
      "metadata": {
        "id": "TjvqOB4-i1UC",
        "outputId": "70b6c1cc-cc94-4ef4-b7e6-427fba258597",
        "colab": {
          "base_uri": "https://localhost:8080/"
        }
      },
      "source": [
        "model.fit(x_train,y_train,batch_size=128,epochs=32,use_multiprocessing=True)"
      ],
      "execution_count": 16,
      "outputs": [
        {
          "output_type": "stream",
          "text": [
            "Epoch 1/32\n",
            "469/469 [==============================] - 12s 25ms/step - loss: 0.3224 - accuracy: 0.9040\n",
            "Epoch 2/32\n",
            "469/469 [==============================] - 12s 25ms/step - loss: 0.1190 - accuracy: 0.9656\n",
            "Epoch 3/32\n",
            "469/469 [==============================] - 12s 25ms/step - loss: 0.0878 - accuracy: 0.9753\n",
            "Epoch 4/32\n",
            "469/469 [==============================] - 12s 25ms/step - loss: 0.0692 - accuracy: 0.9805\n",
            "Epoch 5/32\n",
            "469/469 [==============================] - 12s 25ms/step - loss: 0.0579 - accuracy: 0.9839\n",
            "Epoch 6/32\n",
            "469/469 [==============================] - 12s 25ms/step - loss: 0.0486 - accuracy: 0.9859\n",
            "Epoch 7/32\n",
            "469/469 [==============================] - 12s 25ms/step - loss: 0.0408 - accuracy: 0.9884\n",
            "Epoch 8/32\n",
            "469/469 [==============================] - 12s 25ms/step - loss: 0.0375 - accuracy: 0.9886\n",
            "Epoch 9/32\n",
            "469/469 [==============================] - 12s 25ms/step - loss: 0.0338 - accuracy: 0.9901\n",
            "Epoch 10/32\n",
            "469/469 [==============================] - 12s 25ms/step - loss: 0.0293 - accuracy: 0.9915\n",
            "Epoch 11/32\n",
            "469/469 [==============================] - 12s 25ms/step - loss: 0.0302 - accuracy: 0.9916\n",
            "Epoch 12/32\n",
            "469/469 [==============================] - 12s 25ms/step - loss: 0.0287 - accuracy: 0.9919\n",
            "Epoch 13/32\n",
            "469/469 [==============================] - 12s 26ms/step - loss: 0.0262 - accuracy: 0.9924\n",
            "Epoch 14/32\n",
            "469/469 [==============================] - 12s 25ms/step - loss: 0.0251 - accuracy: 0.9931\n",
            "Epoch 15/32\n",
            "469/469 [==============================] - 12s 25ms/step - loss: 0.0248 - accuracy: 0.9926\n",
            "Epoch 16/32\n",
            "469/469 [==============================] - 12s 25ms/step - loss: 0.0227 - accuracy: 0.9938\n",
            "Epoch 17/32\n",
            "469/469 [==============================] - 12s 25ms/step - loss: 0.0179 - accuracy: 0.9950\n",
            "Epoch 18/32\n",
            "469/469 [==============================] - 12s 25ms/step - loss: 0.0224 - accuracy: 0.9938\n",
            "Epoch 19/32\n",
            "469/469 [==============================] - 12s 25ms/step - loss: 0.0158 - accuracy: 0.9956\n",
            "Epoch 20/32\n",
            "469/469 [==============================] - 12s 25ms/step - loss: 0.0192 - accuracy: 0.9943\n",
            "Epoch 21/32\n",
            "469/469 [==============================] - 12s 25ms/step - loss: 0.0183 - accuracy: 0.9951\n",
            "Epoch 22/32\n",
            "469/469 [==============================] - 12s 25ms/step - loss: 0.0173 - accuracy: 0.9954\n",
            "Epoch 23/32\n",
            "469/469 [==============================] - 12s 26ms/step - loss: 0.0169 - accuracy: 0.9953\n",
            "Epoch 24/32\n",
            "469/469 [==============================] - 12s 25ms/step - loss: 0.0135 - accuracy: 0.9962\n",
            "Epoch 25/32\n",
            "469/469 [==============================] - 12s 25ms/step - loss: 0.0145 - accuracy: 0.9962\n",
            "Epoch 26/32\n",
            "469/469 [==============================] - 12s 25ms/step - loss: 0.0152 - accuracy: 0.9962\n",
            "Epoch 27/32\n",
            "469/469 [==============================] - 12s 25ms/step - loss: 0.0176 - accuracy: 0.9953\n",
            "Epoch 28/32\n",
            "469/469 [==============================] - 12s 25ms/step - loss: 0.0143 - accuracy: 0.9962\n",
            "Epoch 29/32\n",
            "469/469 [==============================] - 12s 25ms/step - loss: 0.0105 - accuracy: 0.9970\n",
            "Epoch 30/32\n",
            "469/469 [==============================] - 12s 25ms/step - loss: 0.0140 - accuracy: 0.9965\n",
            "Epoch 31/32\n",
            "469/469 [==============================] - 12s 25ms/step - loss: 0.0135 - accuracy: 0.9965\n",
            "Epoch 32/32\n",
            "469/469 [==============================] - 12s 25ms/step - loss: 0.0158 - accuracy: 0.9963\n"
          ],
          "name": "stdout"
        },
        {
          "output_type": "execute_result",
          "data": {
            "text/plain": [
              "<tensorflow.python.keras.callbacks.History at 0x7fa77da11470>"
            ]
          },
          "metadata": {
            "tags": []
          },
          "execution_count": 16
        }
      ]
    },
    {
      "cell_type": "markdown",
      "metadata": {
        "id": "y2dyOv0i7uu_"
      },
      "source": [
        "Evaluation of Model"
      ]
    },
    {
      "cell_type": "code",
      "metadata": {
        "id": "IZQLTZYCjVAV",
        "outputId": "60273b3f-302e-45f1-9055-16f568665ba0",
        "colab": {
          "base_uri": "https://localhost:8080/"
        }
      },
      "source": [
        "score = model.evaluate(x_test, y_test)\n",
        "print('Test score:', score[0])\n",
        "print('Test accuracy:', score[1])"
      ],
      "execution_count": 17,
      "outputs": [
        {
          "output_type": "stream",
          "text": [
            "313/313 [==============================] - 1s 4ms/step - loss: 0.0992 - accuracy: 0.9847\n",
            "Test score: 0.09922144562005997\n",
            "Test accuracy: 0.9847000241279602\n"
          ],
          "name": "stdout"
        }
      ]
    },
    {
      "cell_type": "code",
      "metadata": {
        "id": "4DJqo-_LhIMf"
      },
      "source": [
        "y_pred=model.predict(x_test)"
      ],
      "execution_count": 18,
      "outputs": []
    },
    {
      "cell_type": "code",
      "metadata": {
        "id": "YyUnY4CNhK4F"
      },
      "source": [
        "y_pred=np.argmax(y_pred,axis=1)"
      ],
      "execution_count": 19,
      "outputs": []
    },
    {
      "cell_type": "code",
      "metadata": {
        "id": "tg7WGE4KhYik"
      },
      "source": [
        "y_test=np.argmax(y_test,axis=1)"
      ],
      "execution_count": 20,
      "outputs": []
    },
    {
      "cell_type": "code",
      "metadata": {
        "id": "_gIkJb4phvC6",
        "outputId": "ae7c16ed-0875-4d62-c8aa-6cb6a898040d",
        "colab": {
          "base_uri": "https://localhost:8080/"
        }
      },
      "source": [
        "from sklearn.metrics import confusion_matrix\n",
        "\n",
        "c_mat=confusion_matrix(y_test,y_pred,labels=[i for i in range(10)])\n",
        "c_mat"
      ],
      "execution_count": 26,
      "outputs": [
        {
          "output_type": "execute_result",
          "data": {
            "text/plain": [
              "array([[ 969,    1,    0,    1,    1,    1,    0,    3,    1,    3],\n",
              "       [   0, 1128,    0,    2,    0,    1,    2,    1,    1,    0],\n",
              "       [   7,    0, 1009,    0,    2,    0,    2,    7,    4,    1],\n",
              "       [   0,    0,    3,  993,    0,    2,    0,    4,    3,    5],\n",
              "       [   0,    0,    1,    0,  971,    0,    3,    1,    1,    5],\n",
              "       [   2,    0,    0,    7,    1,  873,    1,    2,    3,    3],\n",
              "       [   3,    2,    1,    0,    6,    1,  944,    0,    1,    0],\n",
              "       [   0,    2,    5,    0,    1,    1,    0, 1015,    1,    3],\n",
              "       [   2,    1,    2,    2,    2,    3,    0,    2,  954,    6],\n",
              "       [   0,    3,    0,    0,    8,    1,    0,    1,    5,  991]])"
            ]
          },
          "metadata": {
            "tags": []
          },
          "execution_count": 26
        }
      ]
    },
    {
      "cell_type": "markdown",
      "metadata": {
        "id": "-4WqpcFn6Ruq"
      },
      "source": [
        "Visualizing the Model"
      ]
    },
    {
      "cell_type": "code",
      "metadata": {
        "id": "uMC5d35-j-_u",
        "outputId": "318c0149-82b7-437e-f0b3-390c9cb42e23",
        "colab": {
          "base_uri": "https://localhost:8080/",
          "height": 724
        }
      },
      "source": [
        "import seaborn as sns\n",
        "\n",
        "plt.figure(figsize = (15,12))\n",
        "sns.set(font_scale=1.2)\n",
        "sns.heatmap(c_mat,annot=True,fmt='d')"
      ],
      "execution_count": 25,
      "outputs": [
        {
          "output_type": "execute_result",
          "data": {
            "text/plain": [
              "<matplotlib.axes._subplots.AxesSubplot at 0x7fa768f98320>"
            ]
          },
          "metadata": {
            "tags": []
          },
          "execution_count": 25
        },
        {
          "output_type": "display_data",
          "data": {
            "image/png": "[encoded data removed]",
            "text/plain": [
              "<Figure size 1080x864 with 2 Axes>"
            ]
          },
          "metadata": {
            "tags": []
          }
        }
      ]
    },
    {
      "cell_type": "markdown",
      "metadata": {
        "id": "WvyJqC2r6WfZ"
      },
      "source": [
        "Save the Model"
      ]
    },
    {
      "cell_type": "code",
      "metadata": {
        "id": "TH5ofxjFpMe7"
      },
      "source": [
        "model.save('mnist.h5')"
      ],
      "execution_count": 27,
      "outputs": []
    },
    {
      "cell_type": "markdown",
      "metadata": {
        "id": "TzLWTZcQ6ZfG"
      },
      "source": [
        "Inferences :\n",
        "\n",
        "> 0s are more prone to be misclassified as 9\n",
        "\n",
        "> 2s are more prone to be misclassified as 7,8 and 0\n",
        "\n",
        "> 3s are more prone to be misclassified as 8 and 9\n",
        "\n",
        "> 4s are more prone to be misclassified as 9\n",
        "\n",
        "> 5s are more prone to be misclassified as 3\n",
        "\n",
        "> 6s are more prone to be misclassified as 4\n",
        "\n",
        "> 7s are more prone to be misclassified as 2\n",
        "\n",
        "> 8s are more prone to be misclassified as 9\n",
        "\n",
        "> 9s are more prone to be misclassified as 8 and 4\n",
        "\n",
        "Most misclassifications happened for 2 3 5 and 8\n",
        "\n",
        "\n",
        "\n",
        "\n",
        "\n",
        "\n",
        "\n",
        "\n",
        "\n",
        "\n",
        "\n",
        "\n",
        "\n"
      ]
    }
  ]
}
{
  "nbformat": 4,
  "nbformat_minor": 0,
  "metadata": {
    "colab": {
      "name": "Iris",
      "provenance": [],
      "collapsed_sections": []
    },
    "kernelspec": {
      "name": "python3",
      "display_name": "Python 3"
    }
  },
  "cells": [
    {
      "cell_type": "code",
      "metadata": {
        "id": "cMlP0oe4pNMV"
      },
      "source": [
        "%matplotlib inline\n",
        "\n",
        "import numpy as np\n",
        "import pandas as pd\n",
        "import matplotlib.pyplot as plt\n",
        "import keras\n",
        "import tensorflow as tf\n",
        "import sklearn"
      ],
      "execution_count": 1,
      "outputs": []
    },
    {
      "cell_type": "code",
      "metadata": {
        "id": "MebhiHm5rcNW"
      },
      "source": [
        "from sklearn.datasets import load_iris\n",
        "\n",
        "data=load_iris()"
      ],
      "execution_count": 2,
      "outputs": []
    },
    {
      "cell_type": "code",
      "metadata": {
        "id": "xUN4CLf2wgQp"
      },
      "source": [
        "X,y=data.data,data.target"
      ],
      "execution_count": 3,
      "outputs": []
    },
    {
      "cell_type": "code",
      "metadata": {
        "id": "lWOS1EGewjYf"
      },
      "source": [
        "from sklearn.preprocessing import Normalizer\n",
        "\n",
        "scaler=Normalizer()\n",
        "X=scaler.fit_transform(X)"
      ],
      "execution_count": 4,
      "outputs": []
    },
    {
      "cell_type": "code",
      "metadata": {
        "id": "yOYmhvLnsPRv"
      },
      "source": [
        "from sklearn.model_selection import train_test_split\n",
        "\n",
        "X_train, X_test, y_train, y_test = train_test_split(X,y,test_size=0.2,random_state=42,stratify=y)"
      ],
      "execution_count": 5,
      "outputs": []
    },
    {
      "cell_type": "code",
      "metadata": {
        "id": "mGEBlKHsy6so"
      },
      "source": [
        "from sklearn.preprocessing import OneHotEncoder\n",
        "\n",
        "encoder=OneHotEncoder()\n",
        "y_train=encoder.fit_transform(y_train.reshape(-1,1)).toarray()\n",
        "y_test=encoder.fit_transform(y_test.reshape(-1,1)).toarray()"
      ],
      "execution_count": 6,
      "outputs": []
    },
    {
      "cell_type": "code",
      "metadata": {
        "id": "JCPkKS5YvS6C"
      },
      "source": [
        "from keras.regularizers import l1_l2\n",
        "from keras.layers import Dense,Activation,Dropout,LeakyReLU\n",
        "from keras.models import Sequential\n",
        "\n",
        "model=Sequential()"
      ],
      "execution_count": 7,
      "outputs": []
    },
    {
      "cell_type": "code",
      "metadata": {
        "id": "1GFgoNKBv7Do"
      },
      "source": [
        "model.add(Dense(32,input_shape=(4,),activation='tanh',kernel_regularizer=l1_l2(l1=1e-3,l2=1e-4)))\n",
        "#model.add(LeakyReLU(alpha=0.01))"
      ],
      "execution_count": 8,
      "outputs": []
    },
    {
      "cell_type": "code",
      "metadata": {
        "id": "D1cHk9FG2ord"
      },
      "source": [
        "model.add(Dense(16,activation='tanh',kernel_regularizer=l1_l2(l1=1e-3,l2=1e-4)))\n",
        "#model.add(LeakyReLU(alpha=0.01))"
      ],
      "execution_count": 9,
      "outputs": []
    },
    {
      "cell_type": "code",
      "metadata": {
        "id": "u1v2jLVHy0Yb"
      },
      "source": [
        "model.add(Dense(8,activation='tanh'))\n",
        "#model.add(LeakyReLU(alpha=0.1))"
      ],
      "execution_count": 10,
      "outputs": []
    },
    {
      "cell_type": "code",
      "metadata": {
        "id": "90ZKCoJN0dAo"
      },
      "source": [
        "model.add(Dense(3,activation='sigmoid'))"
      ],
      "execution_count": 11,
      "outputs": []
    },
    {
      "cell_type": "code",
      "metadata": {
        "id": "2Ux-p1wG0htX",
        "outputId": "34d4cb24-6e35-43e3-e6cf-5b400757174d",
        "colab": {
          "base_uri": "https://localhost:8080/"
        }
      },
      "source": [
        "model.summary()"
      ],
      "execution_count": 12,
      "outputs": [
        {
          "output_type": "stream",
          "text": [
            "Model: \"sequential\"\n",
            "_________________________________________________________________\n",
            "Layer (type)                 Output Shape              Param #   \n",
            "=================================================================\n",
            "dense (Dense)                (None, 32)                160       \n",
            "_________________________________________________________________\n",
            "dense_1 (Dense)              (None, 16)                528       \n",
            "_________________________________________________________________\n",
            "dense_2 (Dense)              (None, 8)                 136       \n",
            "_________________________________________________________________\n",
            "dense_3 (Dense)              (None, 3)                 27        \n",
            "=================================================================\n",
            "Total params: 851\n",
            "Trainable params: 851\n",
            "Non-trainable params: 0\n",
            "_________________________________________________________________\n"
          ],
          "name": "stdout"
        }
      ]
    },
    {
      "cell_type": "code",
      "metadata": {
        "id": "U880ScWz0_Rd"
      },
      "source": [
        "model.compile(optimizer='rmsprop',loss='categorical_crossentropy',metrics=['accuracy'])"
      ],
      "execution_count": 13,
      "outputs": []
    },
    {
      "cell_type": "code",
      "metadata": {
        "id": "OD25oMr70kvV",
        "outputId": "64280343-0ffe-44e8-a84f-d0cd66168fbb",
        "colab": {
          "base_uri": "https://localhost:8080/"
        }
      },
      "source": [
        "model.fit(X_train,y_train,epochs=256,use_multiprocessing=True,validation_data=(X_test,y_test),batch_size=3)"
      ],
      "execution_count": 14,
      "outputs": [
        {
          "output_type": "stream",
          "text": [
            "Epoch 1/256\n",
            "40/40 [==============================] - 0s 5ms/step - loss: 1.1791 - accuracy: 0.4000 - val_loss: 1.1398 - val_accuracy: 0.6667\n",
            "Epoch 2/256\n",
            "40/40 [==============================] - 0s 2ms/step - loss: 1.1193 - accuracy: 0.6083 - val_loss: 1.0694 - val_accuracy: 0.6667\n",
            "Epoch 3/256\n",
            "40/40 [==============================] - 0s 2ms/step - loss: 1.0359 - accuracy: 0.6667 - val_loss: 0.9787 - val_accuracy: 0.6667\n",
            "Epoch 4/256\n",
            "40/40 [==============================] - 0s 2ms/step - loss: 0.9411 - accuracy: 0.6667 - val_loss: 0.8819 - val_accuracy: 0.6667\n",
            "Epoch 5/256\n",
            "40/40 [==============================] - 0s 2ms/step - loss: 0.8532 - accuracy: 0.6667 - val_loss: 0.8037 - val_accuracy: 0.6667\n",
            "Epoch 6/256\n",
            "40/40 [==============================] - 0s 2ms/step - loss: 0.7728 - accuracy: 0.6667 - val_loss: 0.7316 - val_accuracy: 0.6667\n",
            "Epoch 7/256\n",
            "40/40 [==============================] - 0s 2ms/step - loss: 0.7154 - accuracy: 0.6667 - val_loss: 0.6857 - val_accuracy: 0.6667\n",
            "Epoch 8/256\n",
            "40/40 [==============================] - 0s 2ms/step - loss: 0.6699 - accuracy: 0.6667 - val_loss: 0.6466 - val_accuracy: 0.6667\n",
            "Epoch 9/256\n",
            "40/40 [==============================] - 0s 2ms/step - loss: 0.6332 - accuracy: 0.6667 - val_loss: 0.6144 - val_accuracy: 0.6667\n",
            "Epoch 10/256\n",
            "40/40 [==============================] - 0s 2ms/step - loss: 0.6030 - accuracy: 0.6667 - val_loss: 0.5851 - val_accuracy: 0.6667\n",
            "Epoch 11/256\n",
            "40/40 [==============================] - 0s 1ms/step - loss: 0.5734 - accuracy: 0.6667 - val_loss: 0.5583 - val_accuracy: 0.6667\n",
            "Epoch 12/256\n",
            "40/40 [==============================] - 0s 2ms/step - loss: 0.5524 - accuracy: 0.6667 - val_loss: 0.5382 - val_accuracy: 0.6667\n",
            "Epoch 13/256\n",
            "40/40 [==============================] - 0s 2ms/step - loss: 0.5277 - accuracy: 0.6667 - val_loss: 0.5173 - val_accuracy: 0.6667\n",
            "Epoch 14/256\n",
            "40/40 [==============================] - 0s 2ms/step - loss: 0.5142 - accuracy: 0.6667 - val_loss: 0.4997 - val_accuracy: 0.6667\n",
            "Epoch 15/256\n",
            "40/40 [==============================] - 0s 2ms/step - loss: 0.4986 - accuracy: 0.6667 - val_loss: 0.4845 - val_accuracy: 0.6667\n",
            "Epoch 16/256\n",
            "40/40 [==============================] - 0s 2ms/step - loss: 0.4806 - accuracy: 0.6667 - val_loss: 0.4764 - val_accuracy: 0.6667\n",
            "Epoch 17/256\n",
            "40/40 [==============================] - 0s 2ms/step - loss: 0.4696 - accuracy: 0.6667 - val_loss: 0.4570 - val_accuracy: 0.6667\n",
            "Epoch 18/256\n",
            "40/40 [==============================] - 0s 2ms/step - loss: 0.4593 - accuracy: 0.6667 - val_loss: 0.4524 - val_accuracy: 0.6667\n",
            "Epoch 19/256\n",
            "40/40 [==============================] - 0s 2ms/step - loss: 0.4476 - accuracy: 0.6667 - val_loss: 0.4346 - val_accuracy: 0.6667\n",
            "Epoch 20/256\n",
            "40/40 [==============================] - 0s 2ms/step - loss: 0.4381 - accuracy: 0.6667 - val_loss: 0.4281 - val_accuracy: 0.6667\n",
            "Epoch 21/256\n",
            "40/40 [==============================] - 0s 2ms/step - loss: 0.4285 - accuracy: 0.6667 - val_loss: 0.4177 - val_accuracy: 0.6667\n",
            "Epoch 22/256\n",
            "40/40 [==============================] - 0s 1ms/step - loss: 0.4201 - accuracy: 0.6667 - val_loss: 0.4083 - val_accuracy: 0.6667\n",
            "Epoch 23/256\n",
            "40/40 [==============================] - 0s 2ms/step - loss: 0.4109 - accuracy: 0.6750 - val_loss: 0.4379 - val_accuracy: 0.6667\n",
            "Epoch 24/256\n",
            "40/40 [==============================] - 0s 1ms/step - loss: 0.4053 - accuracy: 0.6750 - val_loss: 0.3982 - val_accuracy: 0.6667\n",
            "Epoch 25/256\n",
            "40/40 [==============================] - 0s 1ms/step - loss: 0.3961 - accuracy: 0.7167 - val_loss: 0.4046 - val_accuracy: 0.7667\n",
            "Epoch 26/256\n",
            "40/40 [==============================] - 0s 2ms/step - loss: 0.3960 - accuracy: 0.7250 - val_loss: 0.3946 - val_accuracy: 0.6667\n",
            "Epoch 27/256\n",
            "40/40 [==============================] - 0s 1ms/step - loss: 0.3925 - accuracy: 0.7333 - val_loss: 0.3894 - val_accuracy: 0.7667\n",
            "Epoch 28/256\n",
            "40/40 [==============================] - 0s 2ms/step - loss: 0.3866 - accuracy: 0.8000 - val_loss: 0.3881 - val_accuracy: 0.7333\n",
            "Epoch 29/256\n",
            "40/40 [==============================] - 0s 2ms/step - loss: 0.3844 - accuracy: 0.7917 - val_loss: 0.3769 - val_accuracy: 0.7667\n",
            "Epoch 30/256\n",
            "40/40 [==============================] - 0s 2ms/step - loss: 0.3776 - accuracy: 0.8167 - val_loss: 0.4021 - val_accuracy: 0.7333\n",
            "Epoch 31/256\n",
            "40/40 [==============================] - 0s 2ms/step - loss: 0.3729 - accuracy: 0.7917 - val_loss: 0.3770 - val_accuracy: 0.9000\n",
            "Epoch 32/256\n",
            "40/40 [==============================] - 0s 2ms/step - loss: 0.3706 - accuracy: 0.8583 - val_loss: 0.3620 - val_accuracy: 0.8333\n",
            "Epoch 33/256\n",
            "40/40 [==============================] - 0s 2ms/step - loss: 0.3709 - accuracy: 0.8750 - val_loss: 0.3563 - val_accuracy: 0.8333\n",
            "Epoch 34/256\n",
            "40/40 [==============================] - 0s 1ms/step - loss: 0.3650 - accuracy: 0.8667 - val_loss: 0.3842 - val_accuracy: 1.0000\n",
            "Epoch 35/256\n",
            "40/40 [==============================] - 0s 2ms/step - loss: 0.3678 - accuracy: 0.9333 - val_loss: 0.3496 - val_accuracy: 0.8333\n",
            "Epoch 36/256\n",
            "40/40 [==============================] - 0s 2ms/step - loss: 0.3663 - accuracy: 0.9167 - val_loss: 0.3471 - val_accuracy: 0.8333\n",
            "Epoch 37/256\n",
            "40/40 [==============================] - 0s 1ms/step - loss: 0.3574 - accuracy: 0.9083 - val_loss: 0.3677 - val_accuracy: 1.0000\n",
            "Epoch 38/256\n",
            "40/40 [==============================] - 0s 2ms/step - loss: 0.3472 - accuracy: 0.8917 - val_loss: 0.3528 - val_accuracy: 0.8333\n",
            "Epoch 39/256\n",
            "40/40 [==============================] - 0s 2ms/step - loss: 0.3594 - accuracy: 0.9333 - val_loss: 0.3473 - val_accuracy: 0.9667\n",
            "Epoch 40/256\n",
            "40/40 [==============================] - 0s 2ms/step - loss: 0.3475 - accuracy: 0.9167 - val_loss: 0.3358 - val_accuracy: 0.9000\n",
            "Epoch 41/256\n",
            "40/40 [==============================] - 0s 2ms/step - loss: 0.3611 - accuracy: 0.9417 - val_loss: 0.3335 - val_accuracy: 0.9333\n",
            "Epoch 42/256\n",
            "40/40 [==============================] - 0s 2ms/step - loss: 0.3452 - accuracy: 0.9250 - val_loss: 0.3556 - val_accuracy: 1.0000\n",
            "Epoch 43/256\n",
            "40/40 [==============================] - 0s 2ms/step - loss: 0.3438 - accuracy: 0.9500 - val_loss: 0.3275 - val_accuracy: 0.9000\n",
            "Epoch 44/256\n",
            "40/40 [==============================] - 0s 2ms/step - loss: 0.3472 - accuracy: 0.9417 - val_loss: 0.3271 - val_accuracy: 1.0000\n",
            "Epoch 45/256\n",
            "40/40 [==============================] - 0s 2ms/step - loss: 0.3438 - accuracy: 0.9583 - val_loss: 0.3242 - val_accuracy: 0.9000\n",
            "Epoch 46/256\n",
            "40/40 [==============================] - 0s 2ms/step - loss: 0.3382 - accuracy: 0.9500 - val_loss: 0.3172 - val_accuracy: 0.9333\n",
            "Epoch 47/256\n",
            "40/40 [==============================] - 0s 1ms/step - loss: 0.3265 - accuracy: 0.9417 - val_loss: 0.3164 - val_accuracy: 1.0000\n",
            "Epoch 48/256\n",
            "40/40 [==============================] - 0s 2ms/step - loss: 0.3396 - accuracy: 0.9583 - val_loss: 0.3091 - val_accuracy: 0.9333\n",
            "Epoch 49/256\n",
            "40/40 [==============================] - 0s 2ms/step - loss: 0.3360 - accuracy: 0.9417 - val_loss: 0.3053 - val_accuracy: 1.0000\n",
            "Epoch 50/256\n",
            "40/40 [==============================] - 0s 2ms/step - loss: 0.3204 - accuracy: 0.9500 - val_loss: 0.3004 - val_accuracy: 0.9333\n",
            "Epoch 51/256\n",
            "40/40 [==============================] - 0s 2ms/step - loss: 0.3235 - accuracy: 0.9333 - val_loss: 0.2974 - val_accuracy: 1.0000\n",
            "Epoch 52/256\n",
            "40/40 [==============================] - 0s 2ms/step - loss: 0.3145 - accuracy: 0.9667 - val_loss: 0.2897 - val_accuracy: 1.0000\n",
            "Epoch 53/256\n",
            "40/40 [==============================] - 0s 2ms/step - loss: 0.3123 - accuracy: 0.9500 - val_loss: 0.2825 - val_accuracy: 1.0000\n",
            "Epoch 54/256\n",
            "40/40 [==============================] - 0s 2ms/step - loss: 0.3035 - accuracy: 0.9583 - val_loss: 0.3076 - val_accuracy: 0.9667\n",
            "Epoch 55/256\n",
            "40/40 [==============================] - 0s 2ms/step - loss: 0.2933 - accuracy: 0.9667 - val_loss: 0.2779 - val_accuracy: 0.9667\n",
            "Epoch 56/256\n",
            "40/40 [==============================] - 0s 2ms/step - loss: 0.2906 - accuracy: 0.9500 - val_loss: 0.2647 - val_accuracy: 1.0000\n",
            "Epoch 57/256\n",
            "40/40 [==============================] - 0s 2ms/step - loss: 0.2882 - accuracy: 0.9417 - val_loss: 0.2769 - val_accuracy: 0.9667\n",
            "Epoch 58/256\n",
            "40/40 [==============================] - 0s 2ms/step - loss: 0.2771 - accuracy: 0.9500 - val_loss: 0.2715 - val_accuracy: 0.9667\n",
            "Epoch 59/256\n",
            "40/40 [==============================] - 0s 2ms/step - loss: 0.2702 - accuracy: 0.9417 - val_loss: 0.2755 - val_accuracy: 0.9667\n",
            "Epoch 60/256\n",
            "40/40 [==============================] - 0s 2ms/step - loss: 0.2528 - accuracy: 0.9667 - val_loss: 0.2459 - val_accuracy: 0.9333\n",
            "Epoch 61/256\n",
            "40/40 [==============================] - 0s 2ms/step - loss: 0.2516 - accuracy: 0.9667 - val_loss: 0.2266 - val_accuracy: 0.9667\n",
            "Epoch 62/256\n",
            "40/40 [==============================] - 0s 2ms/step - loss: 0.2510 - accuracy: 0.9500 - val_loss: 0.2112 - val_accuracy: 1.0000\n",
            "Epoch 63/256\n",
            "40/40 [==============================] - 0s 2ms/step - loss: 0.2263 - accuracy: 0.9750 - val_loss: 0.2460 - val_accuracy: 0.9333\n",
            "Epoch 64/256\n",
            "40/40 [==============================] - 0s 2ms/step - loss: 0.2180 - accuracy: 0.9667 - val_loss: 0.2270 - val_accuracy: 0.9667\n",
            "Epoch 65/256\n",
            "40/40 [==============================] - 0s 2ms/step - loss: 0.2247 - accuracy: 0.9500 - val_loss: 0.1894 - val_accuracy: 1.0000\n",
            "Epoch 66/256\n",
            "40/40 [==============================] - 0s 2ms/step - loss: 0.2246 - accuracy: 0.9750 - val_loss: 0.1850 - val_accuracy: 0.9667\n",
            "Epoch 67/256\n",
            "40/40 [==============================] - 0s 2ms/step - loss: 0.2194 - accuracy: 0.9500 - val_loss: 0.1784 - val_accuracy: 1.0000\n",
            "Epoch 68/256\n",
            "40/40 [==============================] - 0s 2ms/step - loss: 0.2138 - accuracy: 0.9667 - val_loss: 0.1728 - val_accuracy: 1.0000\n",
            "Epoch 69/256\n",
            "40/40 [==============================] - 0s 2ms/step - loss: 0.2040 - accuracy: 0.9500 - val_loss: 0.1874 - val_accuracy: 0.9667\n",
            "Epoch 70/256\n",
            "40/40 [==============================] - 0s 2ms/step - loss: 0.2042 - accuracy: 0.9583 - val_loss: 0.1657 - val_accuracy: 1.0000\n",
            "Epoch 71/256\n",
            "40/40 [==============================] - 0s 2ms/step - loss: 0.1944 - accuracy: 0.9667 - val_loss: 0.1680 - val_accuracy: 0.9667\n",
            "Epoch 72/256\n",
            "40/40 [==============================] - 0s 2ms/step - loss: 0.1956 - accuracy: 0.9583 - val_loss: 0.1584 - val_accuracy: 1.0000\n",
            "Epoch 73/256\n",
            "40/40 [==============================] - 0s 2ms/step - loss: 0.2085 - accuracy: 0.9583 - val_loss: 0.1653 - val_accuracy: 0.9667\n",
            "Epoch 74/256\n",
            "40/40 [==============================] - 0s 2ms/step - loss: 0.1957 - accuracy: 0.9583 - val_loss: 0.1861 - val_accuracy: 0.9667\n",
            "Epoch 75/256\n",
            "40/40 [==============================] - 0s 2ms/step - loss: 0.1861 - accuracy: 0.9583 - val_loss: 0.2308 - val_accuracy: 0.9000\n",
            "Epoch 76/256\n",
            "40/40 [==============================] - 0s 2ms/step - loss: 0.1723 - accuracy: 0.9667 - val_loss: 0.4221 - val_accuracy: 0.8333\n",
            "Epoch 77/256\n",
            "40/40 [==============================] - 0s 2ms/step - loss: 0.2017 - accuracy: 0.9583 - val_loss: 0.1861 - val_accuracy: 0.9333\n",
            "Epoch 78/256\n",
            "40/40 [==============================] - 0s 2ms/step - loss: 0.1917 - accuracy: 0.9667 - val_loss: 0.1616 - val_accuracy: 0.9667\n",
            "Epoch 79/256\n",
            "40/40 [==============================] - 0s 2ms/step - loss: 0.1759 - accuracy: 0.9583 - val_loss: 0.1515 - val_accuracy: 0.9667\n",
            "Epoch 80/256\n",
            "40/40 [==============================] - 0s 2ms/step - loss: 0.1881 - accuracy: 0.9500 - val_loss: 0.1639 - val_accuracy: 0.9667\n",
            "Epoch 81/256\n",
            "40/40 [==============================] - 0s 2ms/step - loss: 0.1957 - accuracy: 0.9583 - val_loss: 0.1449 - val_accuracy: 1.0000\n",
            "Epoch 82/256\n",
            "40/40 [==============================] - 0s 2ms/step - loss: 0.1847 - accuracy: 0.9583 - val_loss: 0.1705 - val_accuracy: 0.9667\n",
            "Epoch 83/256\n",
            "40/40 [==============================] - 0s 2ms/step - loss: 0.1730 - accuracy: 0.9583 - val_loss: 0.1395 - val_accuracy: 0.9667\n",
            "Epoch 84/256\n",
            "40/40 [==============================] - 0s 2ms/step - loss: 0.1794 - accuracy: 0.9583 - val_loss: 0.1359 - val_accuracy: 0.9667\n",
            "Epoch 85/256\n",
            "40/40 [==============================] - 0s 2ms/step - loss: 0.1937 - accuracy: 0.9417 - val_loss: 0.1339 - val_accuracy: 1.0000\n",
            "Epoch 86/256\n",
            "40/40 [==============================] - 0s 2ms/step - loss: 0.1852 - accuracy: 0.9583 - val_loss: 0.1328 - val_accuracy: 1.0000\n",
            "Epoch 87/256\n",
            "40/40 [==============================] - 0s 2ms/step - loss: 0.1833 - accuracy: 0.9667 - val_loss: 0.1644 - val_accuracy: 0.9667\n",
            "Epoch 88/256\n",
            "40/40 [==============================] - 0s 2ms/step - loss: 0.1873 - accuracy: 0.9500 - val_loss: 0.1729 - val_accuracy: 0.9667\n",
            "Epoch 89/256\n",
            "40/40 [==============================] - 0s 2ms/step - loss: 0.1863 - accuracy: 0.9500 - val_loss: 0.1576 - val_accuracy: 0.9667\n",
            "Epoch 90/256\n",
            "40/40 [==============================] - 0s 2ms/step - loss: 0.1741 - accuracy: 0.9500 - val_loss: 0.1394 - val_accuracy: 0.9667\n",
            "Epoch 91/256\n",
            "40/40 [==============================] - 0s 2ms/step - loss: 0.1687 - accuracy: 0.9583 - val_loss: 0.1291 - val_accuracy: 1.0000\n",
            "Epoch 92/256\n",
            "40/40 [==============================] - 0s 2ms/step - loss: 0.1661 - accuracy: 0.9583 - val_loss: 0.1307 - val_accuracy: 0.9667\n",
            "Epoch 93/256\n",
            "40/40 [==============================] - 0s 2ms/step - loss: 0.1864 - accuracy: 0.9500 - val_loss: 0.1324 - val_accuracy: 0.9667\n",
            "Epoch 94/256\n",
            "40/40 [==============================] - 0s 2ms/step - loss: 0.1595 - accuracy: 0.9667 - val_loss: 0.1277 - val_accuracy: 0.9667\n",
            "Epoch 95/256\n",
            "40/40 [==============================] - 0s 2ms/step - loss: 0.1775 - accuracy: 0.9500 - val_loss: 0.1238 - val_accuracy: 1.0000\n",
            "Epoch 96/256\n",
            "40/40 [==============================] - 0s 2ms/step - loss: 0.1797 - accuracy: 0.9417 - val_loss: 0.1708 - val_accuracy: 0.9333\n",
            "Epoch 97/256\n",
            "40/40 [==============================] - 0s 2ms/step - loss: 0.1774 - accuracy: 0.9417 - val_loss: 0.1236 - val_accuracy: 1.0000\n",
            "Epoch 98/256\n",
            "40/40 [==============================] - 0s 2ms/step - loss: 0.1735 - accuracy: 0.9500 - val_loss: 0.1519 - val_accuracy: 0.9667\n",
            "Epoch 99/256\n",
            "40/40 [==============================] - 0s 2ms/step - loss: 0.1853 - accuracy: 0.9417 - val_loss: 0.1227 - val_accuracy: 1.0000\n",
            "Epoch 100/256\n",
            "40/40 [==============================] - 0s 2ms/step - loss: 0.1757 - accuracy: 0.9417 - val_loss: 0.1336 - val_accuracy: 1.0000\n",
            "Epoch 101/256\n",
            "40/40 [==============================] - 0s 2ms/step - loss: 0.1737 - accuracy: 0.9667 - val_loss: 0.1705 - val_accuracy: 0.9333\n",
            "Epoch 102/256\n",
            "40/40 [==============================] - 0s 2ms/step - loss: 0.1682 - accuracy: 0.9583 - val_loss: 0.1694 - val_accuracy: 0.9667\n",
            "Epoch 103/256\n",
            "40/40 [==============================] - 0s 2ms/step - loss: 0.1739 - accuracy: 0.9583 - val_loss: 0.1360 - val_accuracy: 0.9667\n",
            "Epoch 104/256\n",
            "40/40 [==============================] - 0s 2ms/step - loss: 0.1867 - accuracy: 0.9417 - val_loss: 0.1420 - val_accuracy: 0.9667\n",
            "Epoch 105/256\n",
            "40/40 [==============================] - 0s 2ms/step - loss: 0.1489 - accuracy: 0.9583 - val_loss: 0.1803 - val_accuracy: 0.9333\n",
            "Epoch 106/256\n",
            "40/40 [==============================] - 0s 2ms/step - loss: 0.1688 - accuracy: 0.9583 - val_loss: 0.1215 - val_accuracy: 1.0000\n",
            "Epoch 107/256\n",
            "40/40 [==============================] - 0s 2ms/step - loss: 0.1682 - accuracy: 0.9583 - val_loss: 0.1417 - val_accuracy: 1.0000\n",
            "Epoch 108/256\n",
            "40/40 [==============================] - 0s 2ms/step - loss: 0.1833 - accuracy: 0.9500 - val_loss: 0.1740 - val_accuracy: 0.9333\n",
            "Epoch 109/256\n",
            "40/40 [==============================] - 0s 2ms/step - loss: 0.1734 - accuracy: 0.9583 - val_loss: 0.1599 - val_accuracy: 0.9333\n",
            "Epoch 110/256\n",
            "40/40 [==============================] - 0s 2ms/step - loss: 0.1653 - accuracy: 0.9500 - val_loss: 0.1336 - val_accuracy: 0.9667\n",
            "Epoch 111/256\n",
            "40/40 [==============================] - 0s 2ms/step - loss: 0.1664 - accuracy: 0.9583 - val_loss: 0.1207 - val_accuracy: 0.9667\n",
            "Epoch 112/256\n",
            "40/40 [==============================] - 0s 2ms/step - loss: 0.1634 - accuracy: 0.9500 - val_loss: 0.1177 - val_accuracy: 0.9667\n",
            "Epoch 113/256\n",
            "40/40 [==============================] - 0s 2ms/step - loss: 0.1425 - accuracy: 0.9750 - val_loss: 0.1175 - val_accuracy: 0.9667\n",
            "Epoch 114/256\n",
            "40/40 [==============================] - 0s 2ms/step - loss: 0.1799 - accuracy: 0.9500 - val_loss: 0.1145 - val_accuracy: 1.0000\n",
            "Epoch 115/256\n",
            "40/40 [==============================] - 0s 2ms/step - loss: 0.1693 - accuracy: 0.9500 - val_loss: 0.1274 - val_accuracy: 1.0000\n",
            "Epoch 116/256\n",
            "40/40 [==============================] - 0s 2ms/step - loss: 0.1635 - accuracy: 0.9500 - val_loss: 0.1141 - val_accuracy: 1.0000\n",
            "Epoch 117/256\n",
            "40/40 [==============================] - 0s 2ms/step - loss: 0.1696 - accuracy: 0.9583 - val_loss: 0.1848 - val_accuracy: 0.9333\n",
            "Epoch 118/256\n",
            "40/40 [==============================] - 0s 2ms/step - loss: 0.1755 - accuracy: 0.9500 - val_loss: 0.1220 - val_accuracy: 1.0000\n",
            "Epoch 119/256\n",
            "40/40 [==============================] - 0s 2ms/step - loss: 0.1662 - accuracy: 0.9500 - val_loss: 0.1203 - val_accuracy: 1.0000\n",
            "Epoch 120/256\n",
            "40/40 [==============================] - 0s 2ms/step - loss: 0.1617 - accuracy: 0.9583 - val_loss: 0.1206 - val_accuracy: 0.9667\n",
            "Epoch 121/256\n",
            "40/40 [==============================] - 0s 2ms/step - loss: 0.1721 - accuracy: 0.9500 - val_loss: 0.1544 - val_accuracy: 0.9667\n",
            "Epoch 122/256\n",
            "40/40 [==============================] - 0s 2ms/step - loss: 0.1674 - accuracy: 0.9667 - val_loss: 0.1231 - val_accuracy: 1.0000\n",
            "Epoch 123/256\n",
            "40/40 [==============================] - 0s 2ms/step - loss: 0.1682 - accuracy: 0.9417 - val_loss: 0.1195 - val_accuracy: 0.9667\n",
            "Epoch 124/256\n",
            "40/40 [==============================] - 0s 2ms/step - loss: 0.1648 - accuracy: 0.9417 - val_loss: 0.1161 - val_accuracy: 0.9667\n",
            "Epoch 125/256\n",
            "40/40 [==============================] - 0s 2ms/step - loss: 0.1590 - accuracy: 0.9667 - val_loss: 0.1183 - val_accuracy: 0.9667\n",
            "Epoch 126/256\n",
            "40/40 [==============================] - 0s 2ms/step - loss: 0.1755 - accuracy: 0.9500 - val_loss: 0.1107 - val_accuracy: 1.0000\n",
            "Epoch 127/256\n",
            "40/40 [==============================] - 0s 2ms/step - loss: 0.1627 - accuracy: 0.9583 - val_loss: 0.1344 - val_accuracy: 1.0000\n",
            "Epoch 128/256\n",
            "40/40 [==============================] - 0s 2ms/step - loss: 0.1681 - accuracy: 0.9583 - val_loss: 0.1530 - val_accuracy: 0.9667\n",
            "Epoch 129/256\n",
            "40/40 [==============================] - 0s 2ms/step - loss: 0.1843 - accuracy: 0.9417 - val_loss: 0.1111 - val_accuracy: 1.0000\n",
            "Epoch 130/256\n",
            "40/40 [==============================] - 0s 2ms/step - loss: 0.1705 - accuracy: 0.9417 - val_loss: 0.1343 - val_accuracy: 0.9667\n",
            "Epoch 131/256\n",
            "40/40 [==============================] - 0s 2ms/step - loss: 0.1705 - accuracy: 0.9417 - val_loss: 0.1491 - val_accuracy: 0.9333\n",
            "Epoch 132/256\n",
            "40/40 [==============================] - 0s 2ms/step - loss: 0.1707 - accuracy: 0.9500 - val_loss: 0.1140 - val_accuracy: 1.0000\n",
            "Epoch 133/256\n",
            "40/40 [==============================] - 0s 2ms/step - loss: 0.1498 - accuracy: 0.9667 - val_loss: 0.1102 - val_accuracy: 1.0000\n",
            "Epoch 134/256\n",
            "40/40 [==============================] - 0s 2ms/step - loss: 0.1668 - accuracy: 0.9583 - val_loss: 0.1540 - val_accuracy: 0.9333\n",
            "Epoch 135/256\n",
            "40/40 [==============================] - 0s 2ms/step - loss: 0.1727 - accuracy: 0.9417 - val_loss: 0.1326 - val_accuracy: 0.9667\n",
            "Epoch 136/256\n",
            "40/40 [==============================] - 0s 2ms/step - loss: 0.1767 - accuracy: 0.9500 - val_loss: 0.1159 - val_accuracy: 0.9667\n",
            "Epoch 137/256\n",
            "40/40 [==============================] - 0s 2ms/step - loss: 0.1675 - accuracy: 0.9667 - val_loss: 0.1565 - val_accuracy: 0.9667\n",
            "Epoch 138/256\n",
            "40/40 [==============================] - 0s 2ms/step - loss: 0.1509 - accuracy: 0.9667 - val_loss: 0.1087 - val_accuracy: 1.0000\n",
            "Epoch 139/256\n",
            "40/40 [==============================] - 0s 2ms/step - loss: 0.1695 - accuracy: 0.9583 - val_loss: 0.1538 - val_accuracy: 0.9667\n",
            "Epoch 140/256\n",
            "40/40 [==============================] - 0s 2ms/step - loss: 0.1428 - accuracy: 0.9667 - val_loss: 0.1305 - val_accuracy: 1.0000\n",
            "Epoch 141/256\n",
            "40/40 [==============================] - 0s 2ms/step - loss: 0.1545 - accuracy: 0.9500 - val_loss: 0.1542 - val_accuracy: 0.9667\n",
            "Epoch 142/256\n",
            "40/40 [==============================] - 0s 2ms/step - loss: 0.1631 - accuracy: 0.9500 - val_loss: 0.1144 - val_accuracy: 1.0000\n",
            "Epoch 143/256\n",
            "40/40 [==============================] - 0s 2ms/step - loss: 0.1561 - accuracy: 0.9667 - val_loss: 0.1667 - val_accuracy: 0.9333\n",
            "Epoch 144/256\n",
            "40/40 [==============================] - 0s 2ms/step - loss: 0.1741 - accuracy: 0.9500 - val_loss: 0.1249 - val_accuracy: 1.0000\n",
            "Epoch 145/256\n",
            "40/40 [==============================] - 0s 2ms/step - loss: 0.1544 - accuracy: 0.9667 - val_loss: 0.1072 - val_accuracy: 1.0000\n",
            "Epoch 146/256\n",
            "40/40 [==============================] - 0s 2ms/step - loss: 0.1425 - accuracy: 0.9583 - val_loss: 0.1065 - val_accuracy: 1.0000\n",
            "Epoch 147/256\n",
            "40/40 [==============================] - 0s 1ms/step - loss: 0.1582 - accuracy: 0.9500 - val_loss: 0.1550 - val_accuracy: 0.9667\n",
            "Epoch 148/256\n",
            "40/40 [==============================] - 0s 2ms/step - loss: 0.1424 - accuracy: 0.9750 - val_loss: 0.1307 - val_accuracy: 0.9667\n",
            "Epoch 149/256\n",
            "40/40 [==============================] - 0s 2ms/step - loss: 0.1478 - accuracy: 0.9750 - val_loss: 0.1392 - val_accuracy: 0.9667\n",
            "Epoch 150/256\n",
            "40/40 [==============================] - 0s 2ms/step - loss: 0.1593 - accuracy: 0.9667 - val_loss: 0.1830 - val_accuracy: 0.9000\n",
            "Epoch 151/256\n",
            "40/40 [==============================] - 0s 2ms/step - loss: 0.1654 - accuracy: 0.9583 - val_loss: 0.1546 - val_accuracy: 0.9667\n",
            "Epoch 152/256\n",
            "40/40 [==============================] - 0s 2ms/step - loss: 0.1459 - accuracy: 0.9667 - val_loss: 0.1533 - val_accuracy: 0.9667\n",
            "Epoch 153/256\n",
            "40/40 [==============================] - 0s 2ms/step - loss: 0.1790 - accuracy: 0.9417 - val_loss: 0.1140 - val_accuracy: 0.9667\n",
            "Epoch 154/256\n",
            "40/40 [==============================] - 0s 2ms/step - loss: 0.1706 - accuracy: 0.9500 - val_loss: 0.1040 - val_accuracy: 1.0000\n",
            "Epoch 155/256\n",
            "40/40 [==============================] - 0s 2ms/step - loss: 0.1444 - accuracy: 0.9500 - val_loss: 0.3502 - val_accuracy: 0.8333\n",
            "Epoch 156/256\n",
            "40/40 [==============================] - 0s 2ms/step - loss: 0.1821 - accuracy: 0.9500 - val_loss: 0.1140 - val_accuracy: 1.0000\n",
            "Epoch 157/256\n",
            "40/40 [==============================] - 0s 2ms/step - loss: 0.1735 - accuracy: 0.9583 - val_loss: 0.1362 - val_accuracy: 0.9667\n",
            "Epoch 158/256\n",
            "40/40 [==============================] - 0s 2ms/step - loss: 0.1613 - accuracy: 0.9500 - val_loss: 0.1038 - val_accuracy: 1.0000\n",
            "Epoch 159/256\n",
            "40/40 [==============================] - 0s 2ms/step - loss: 0.1673 - accuracy: 0.9500 - val_loss: 0.1040 - val_accuracy: 1.0000\n",
            "Epoch 160/256\n",
            "40/40 [==============================] - 0s 2ms/step - loss: 0.1606 - accuracy: 0.9667 - val_loss: 0.1041 - val_accuracy: 1.0000\n",
            "Epoch 161/256\n",
            "40/40 [==============================] - 0s 2ms/step - loss: 0.1617 - accuracy: 0.9583 - val_loss: 0.1422 - val_accuracy: 0.9333\n",
            "Epoch 162/256\n",
            "40/40 [==============================] - 0s 2ms/step - loss: 0.1769 - accuracy: 0.9417 - val_loss: 0.1121 - val_accuracy: 1.0000\n",
            "Epoch 163/256\n",
            "40/40 [==============================] - 0s 2ms/step - loss: 0.1664 - accuracy: 0.9333 - val_loss: 0.1268 - val_accuracy: 1.0000\n",
            "Epoch 164/256\n",
            "40/40 [==============================] - 0s 2ms/step - loss: 0.1582 - accuracy: 0.9417 - val_loss: 0.1298 - val_accuracy: 0.9667\n",
            "Epoch 165/256\n",
            "40/40 [==============================] - 0s 2ms/step - loss: 0.1588 - accuracy: 0.9500 - val_loss: 0.1313 - val_accuracy: 0.9667\n",
            "Epoch 166/256\n",
            "40/40 [==============================] - 0s 2ms/step - loss: 0.1597 - accuracy: 0.9583 - val_loss: 0.1126 - val_accuracy: 0.9667\n",
            "Epoch 167/256\n",
            "40/40 [==============================] - 0s 2ms/step - loss: 0.1474 - accuracy: 0.9667 - val_loss: 0.1079 - val_accuracy: 0.9667\n",
            "Epoch 168/256\n",
            "40/40 [==============================] - 0s 2ms/step - loss: 0.1601 - accuracy: 0.9417 - val_loss: 0.1100 - val_accuracy: 0.9667\n",
            "Epoch 169/256\n",
            "40/40 [==============================] - 0s 2ms/step - loss: 0.1585 - accuracy: 0.9500 - val_loss: 0.1033 - val_accuracy: 1.0000\n",
            "Epoch 170/256\n",
            "40/40 [==============================] - 0s 2ms/step - loss: 0.1523 - accuracy: 0.9583 - val_loss: 0.1264 - val_accuracy: 1.0000\n",
            "Epoch 171/256\n",
            "40/40 [==============================] - 0s 2ms/step - loss: 0.1442 - accuracy: 0.9750 - val_loss: 0.1076 - val_accuracy: 0.9667\n",
            "Epoch 172/256\n",
            "40/40 [==============================] - 0s 2ms/step - loss: 0.1309 - accuracy: 0.9750 - val_loss: 0.3327 - val_accuracy: 0.8333\n",
            "Epoch 173/256\n",
            "40/40 [==============================] - 0s 2ms/step - loss: 0.1698 - accuracy: 0.9583 - val_loss: 0.1479 - val_accuracy: 0.9333\n",
            "Epoch 174/256\n",
            "40/40 [==============================] - 0s 2ms/step - loss: 0.1674 - accuracy: 0.9500 - val_loss: 0.1268 - val_accuracy: 0.9667\n",
            "Epoch 175/256\n",
            "40/40 [==============================] - 0s 2ms/step - loss: 0.1533 - accuracy: 0.9583 - val_loss: 0.1324 - val_accuracy: 0.9667\n",
            "Epoch 176/256\n",
            "40/40 [==============================] - 0s 2ms/step - loss: 0.1710 - accuracy: 0.9417 - val_loss: 0.1049 - val_accuracy: 0.9667\n",
            "Epoch 177/256\n",
            "40/40 [==============================] - 0s 2ms/step - loss: 0.1539 - accuracy: 0.9667 - val_loss: 0.1464 - val_accuracy: 0.9333\n",
            "Epoch 178/256\n",
            "40/40 [==============================] - 0s 2ms/step - loss: 0.1592 - accuracy: 0.9500 - val_loss: 0.1119 - val_accuracy: 1.0000\n",
            "Epoch 179/256\n",
            "40/40 [==============================] - 0s 2ms/step - loss: 0.1495 - accuracy: 0.9500 - val_loss: 0.1296 - val_accuracy: 0.9667\n",
            "Epoch 180/256\n",
            "40/40 [==============================] - 0s 2ms/step - loss: 0.1337 - accuracy: 0.9750 - val_loss: 0.1107 - val_accuracy: 0.9667\n",
            "Epoch 181/256\n",
            "40/40 [==============================] - 0s 2ms/step - loss: 0.1546 - accuracy: 0.9667 - val_loss: 0.1037 - val_accuracy: 0.9667\n",
            "Epoch 182/256\n",
            "40/40 [==============================] - 0s 2ms/step - loss: 0.1258 - accuracy: 0.9750 - val_loss: 0.2028 - val_accuracy: 0.9333\n",
            "Epoch 183/256\n",
            "40/40 [==============================] - 0s 2ms/step - loss: 0.1554 - accuracy: 0.9583 - val_loss: 0.1843 - val_accuracy: 0.9333\n",
            "Epoch 184/256\n",
            "40/40 [==============================] - 0s 2ms/step - loss: 0.1751 - accuracy: 0.9500 - val_loss: 0.1007 - val_accuracy: 1.0000\n",
            "Epoch 185/256\n",
            "40/40 [==============================] - 0s 2ms/step - loss: 0.1672 - accuracy: 0.9583 - val_loss: 0.1038 - val_accuracy: 1.0000\n",
            "Epoch 186/256\n",
            "40/40 [==============================] - 0s 2ms/step - loss: 0.1523 - accuracy: 0.9667 - val_loss: 0.1011 - val_accuracy: 1.0000\n",
            "Epoch 187/256\n",
            "40/40 [==============================] - 0s 2ms/step - loss: 0.1590 - accuracy: 0.9667 - val_loss: 0.1009 - val_accuracy: 0.9667\n",
            "Epoch 188/256\n",
            "40/40 [==============================] - 0s 2ms/step - loss: 0.1434 - accuracy: 0.9667 - val_loss: 0.1225 - val_accuracy: 0.9667\n",
            "Epoch 189/256\n",
            "40/40 [==============================] - 0s 2ms/step - loss: 0.1458 - accuracy: 0.9750 - val_loss: 0.1133 - val_accuracy: 0.9667\n",
            "Epoch 190/256\n",
            "40/40 [==============================] - 0s 2ms/step - loss: 0.1561 - accuracy: 0.9583 - val_loss: 0.1655 - val_accuracy: 0.9667\n",
            "Epoch 191/256\n",
            "40/40 [==============================] - 0s 2ms/step - loss: 0.1715 - accuracy: 0.9583 - val_loss: 0.1255 - val_accuracy: 1.0000\n",
            "Epoch 192/256\n",
            "40/40 [==============================] - 0s 2ms/step - loss: 0.1517 - accuracy: 0.9500 - val_loss: 0.1718 - val_accuracy: 0.9333\n",
            "Epoch 193/256\n",
            "40/40 [==============================] - 0s 2ms/step - loss: 0.1460 - accuracy: 0.9583 - val_loss: 0.0993 - val_accuracy: 1.0000\n",
            "Epoch 194/256\n",
            "40/40 [==============================] - 0s 2ms/step - loss: 0.1611 - accuracy: 0.9583 - val_loss: 0.1033 - val_accuracy: 0.9667\n",
            "Epoch 195/256\n",
            "40/40 [==============================] - 0s 2ms/step - loss: 0.1599 - accuracy: 0.9500 - val_loss: 0.1037 - val_accuracy: 0.9667\n",
            "Epoch 196/256\n",
            "40/40 [==============================] - 0s 2ms/step - loss: 0.1555 - accuracy: 0.9500 - val_loss: 0.1438 - val_accuracy: 0.9333\n",
            "Epoch 197/256\n",
            "40/40 [==============================] - 0s 2ms/step - loss: 0.1705 - accuracy: 0.9583 - val_loss: 0.0999 - val_accuracy: 1.0000\n",
            "Epoch 198/256\n",
            "40/40 [==============================] - 0s 2ms/step - loss: 0.1474 - accuracy: 0.9667 - val_loss: 0.1301 - val_accuracy: 0.9667\n",
            "Epoch 199/256\n",
            "40/40 [==============================] - 0s 2ms/step - loss: 0.1400 - accuracy: 0.9750 - val_loss: 0.1050 - val_accuracy: 0.9667\n",
            "Epoch 200/256\n",
            "40/40 [==============================] - 0s 2ms/step - loss: 0.1596 - accuracy: 0.9500 - val_loss: 0.1278 - val_accuracy: 0.9667\n",
            "Epoch 201/256\n",
            "40/40 [==============================] - 0s 2ms/step - loss: 0.1504 - accuracy: 0.9583 - val_loss: 0.1503 - val_accuracy: 0.9667\n",
            "Epoch 202/256\n",
            "40/40 [==============================] - 0s 2ms/step - loss: 0.1489 - accuracy: 0.9750 - val_loss: 0.1015 - val_accuracy: 0.9667\n",
            "Epoch 203/256\n",
            "40/40 [==============================] - 0s 2ms/step - loss: 0.1593 - accuracy: 0.9500 - val_loss: 0.1164 - val_accuracy: 1.0000\n",
            "Epoch 204/256\n",
            "40/40 [==============================] - 0s 2ms/step - loss: 0.1396 - accuracy: 0.9667 - val_loss: 0.1004 - val_accuracy: 0.9667\n",
            "Epoch 205/256\n",
            "40/40 [==============================] - 0s 2ms/step - loss: 0.1499 - accuracy: 0.9750 - val_loss: 0.0992 - val_accuracy: 1.0000\n",
            "Epoch 206/256\n",
            "40/40 [==============================] - 0s 2ms/step - loss: 0.1462 - accuracy: 0.9667 - val_loss: 0.1084 - val_accuracy: 0.9667\n",
            "Epoch 207/256\n",
            "40/40 [==============================] - 0s 2ms/step - loss: 0.1541 - accuracy: 0.9500 - val_loss: 0.1910 - val_accuracy: 0.9000\n",
            "Epoch 208/256\n",
            "40/40 [==============================] - 0s 2ms/step - loss: 0.1668 - accuracy: 0.9500 - val_loss: 0.1104 - val_accuracy: 1.0000\n",
            "Epoch 209/256\n",
            "40/40 [==============================] - 0s 2ms/step - loss: 0.1474 - accuracy: 0.9583 - val_loss: 0.1462 - val_accuracy: 0.9667\n",
            "Epoch 210/256\n",
            "40/40 [==============================] - 0s 2ms/step - loss: 0.1468 - accuracy: 0.9667 - val_loss: 0.1037 - val_accuracy: 0.9667\n",
            "Epoch 211/256\n",
            "40/40 [==============================] - 0s 2ms/step - loss: 0.1396 - accuracy: 0.9667 - val_loss: 0.1072 - val_accuracy: 0.9667\n",
            "Epoch 212/256\n",
            "40/40 [==============================] - 0s 2ms/step - loss: 0.1570 - accuracy: 0.9667 - val_loss: 0.0969 - val_accuracy: 1.0000\n",
            "Epoch 213/256\n",
            "40/40 [==============================] - 0s 2ms/step - loss: 0.1546 - accuracy: 0.9500 - val_loss: 0.1106 - val_accuracy: 0.9667\n",
            "Epoch 214/256\n",
            "40/40 [==============================] - 0s 2ms/step - loss: 0.1465 - accuracy: 0.9750 - val_loss: 0.1381 - val_accuracy: 0.9667\n",
            "Epoch 215/256\n",
            "40/40 [==============================] - 0s 2ms/step - loss: 0.1658 - accuracy: 0.9417 - val_loss: 0.1046 - val_accuracy: 0.9667\n",
            "Epoch 216/256\n",
            "40/40 [==============================] - 0s 2ms/step - loss: 0.1321 - accuracy: 0.9833 - val_loss: 0.1467 - val_accuracy: 0.9667\n",
            "Epoch 217/256\n",
            "40/40 [==============================] - 0s 2ms/step - loss: 0.1744 - accuracy: 0.9333 - val_loss: 0.1142 - val_accuracy: 0.9667\n",
            "Epoch 218/256\n",
            "40/40 [==============================] - 0s 2ms/step - loss: 0.1454 - accuracy: 0.9667 - val_loss: 0.1150 - val_accuracy: 0.9667\n",
            "Epoch 219/256\n",
            "40/40 [==============================] - 0s 2ms/step - loss: 0.1663 - accuracy: 0.9583 - val_loss: 0.0976 - val_accuracy: 0.9667\n",
            "Epoch 220/256\n",
            "40/40 [==============================] - 0s 2ms/step - loss: 0.1404 - accuracy: 0.9667 - val_loss: 0.0997 - val_accuracy: 0.9667\n",
            "Epoch 221/256\n",
            "40/40 [==============================] - 0s 2ms/step - loss: 0.1657 - accuracy: 0.9500 - val_loss: 0.1343 - val_accuracy: 0.9333\n",
            "Epoch 222/256\n",
            "40/40 [==============================] - 0s 2ms/step - loss: 0.1519 - accuracy: 0.9667 - val_loss: 0.1406 - val_accuracy: 0.9667\n",
            "Epoch 223/256\n",
            "40/40 [==============================] - 0s 2ms/step - loss: 0.1608 - accuracy: 0.9583 - val_loss: 0.1024 - val_accuracy: 0.9667\n",
            "Epoch 224/256\n",
            "40/40 [==============================] - 0s 2ms/step - loss: 0.1441 - accuracy: 0.9667 - val_loss: 0.0996 - val_accuracy: 1.0000\n",
            "Epoch 225/256\n",
            "40/40 [==============================] - 0s 2ms/step - loss: 0.1622 - accuracy: 0.9417 - val_loss: 0.0972 - val_accuracy: 1.0000\n",
            "Epoch 226/256\n",
            "40/40 [==============================] - 0s 2ms/step - loss: 0.1425 - accuracy: 0.9583 - val_loss: 0.1755 - val_accuracy: 0.9333\n",
            "Epoch 227/256\n",
            "40/40 [==============================] - 0s 2ms/step - loss: 0.1646 - accuracy: 0.9500 - val_loss: 0.1119 - val_accuracy: 0.9667\n",
            "Epoch 228/256\n",
            "40/40 [==============================] - 0s 2ms/step - loss: 0.1530 - accuracy: 0.9667 - val_loss: 0.1025 - val_accuracy: 1.0000\n",
            "Epoch 229/256\n",
            "40/40 [==============================] - 0s 2ms/step - loss: 0.1563 - accuracy: 0.9583 - val_loss: 0.1062 - val_accuracy: 0.9667\n",
            "Epoch 230/256\n",
            "40/40 [==============================] - 0s 2ms/step - loss: 0.1619 - accuracy: 0.9500 - val_loss: 0.0980 - val_accuracy: 1.0000\n",
            "Epoch 231/256\n",
            "40/40 [==============================] - 0s 2ms/step - loss: 0.1482 - accuracy: 0.9667 - val_loss: 0.1173 - val_accuracy: 0.9667\n",
            "Epoch 232/256\n",
            "40/40 [==============================] - 0s 2ms/step - loss: 0.1622 - accuracy: 0.9500 - val_loss: 0.1267 - val_accuracy: 0.9667\n",
            "Epoch 233/256\n",
            "40/40 [==============================] - 0s 2ms/step - loss: 0.1310 - accuracy: 0.9583 - val_loss: 0.0994 - val_accuracy: 1.0000\n",
            "Epoch 234/256\n",
            "40/40 [==============================] - 0s 2ms/step - loss: 0.1507 - accuracy: 0.9583 - val_loss: 0.1035 - val_accuracy: 0.9667\n",
            "Epoch 235/256\n",
            "40/40 [==============================] - 0s 2ms/step - loss: 0.1531 - accuracy: 0.9667 - val_loss: 0.1196 - val_accuracy: 0.9667\n",
            "Epoch 236/256\n",
            "40/40 [==============================] - 0s 2ms/step - loss: 0.1422 - accuracy: 0.9500 - val_loss: 0.1004 - val_accuracy: 1.0000\n",
            "Epoch 237/256\n",
            "40/40 [==============================] - 0s 2ms/step - loss: 0.1609 - accuracy: 0.9583 - val_loss: 0.0973 - val_accuracy: 1.0000\n",
            "Epoch 238/256\n",
            "40/40 [==============================] - 0s 2ms/step - loss: 0.1472 - accuracy: 0.9583 - val_loss: 0.1048 - val_accuracy: 0.9667\n",
            "Epoch 239/256\n",
            "40/40 [==============================] - 0s 2ms/step - loss: 0.1598 - accuracy: 0.9417 - val_loss: 0.1203 - val_accuracy: 0.9667\n",
            "Epoch 240/256\n",
            "40/40 [==============================] - 0s 2ms/step - loss: 0.1645 - accuracy: 0.9500 - val_loss: 0.1042 - val_accuracy: 0.9667\n",
            "Epoch 241/256\n",
            "40/40 [==============================] - 0s 2ms/step - loss: 0.1500 - accuracy: 0.9500 - val_loss: 0.1197 - val_accuracy: 0.9667\n",
            "Epoch 242/256\n",
            "40/40 [==============================] - 0s 2ms/step - loss: 0.1561 - accuracy: 0.9583 - val_loss: 0.1050 - val_accuracy: 1.0000\n",
            "Epoch 243/256\n",
            "40/40 [==============================] - 0s 2ms/step - loss: 0.1443 - accuracy: 0.9583 - val_loss: 0.1224 - val_accuracy: 1.0000\n",
            "Epoch 244/256\n",
            "40/40 [==============================] - 0s 2ms/step - loss: 0.1648 - accuracy: 0.9500 - val_loss: 0.0986 - val_accuracy: 1.0000\n",
            "Epoch 245/256\n",
            "40/40 [==============================] - 0s 2ms/step - loss: 0.1484 - accuracy: 0.9500 - val_loss: 0.0966 - val_accuracy: 1.0000\n",
            "Epoch 246/256\n",
            "40/40 [==============================] - 0s 2ms/step - loss: 0.1520 - accuracy: 0.9667 - val_loss: 0.1358 - val_accuracy: 0.9333\n",
            "Epoch 247/256\n",
            "40/40 [==============================] - 0s 2ms/step - loss: 0.1383 - accuracy: 0.9667 - val_loss: 0.1317 - val_accuracy: 0.9667\n",
            "Epoch 248/256\n",
            "40/40 [==============================] - 0s 2ms/step - loss: 0.1570 - accuracy: 0.9583 - val_loss: 0.0972 - val_accuracy: 0.9667\n",
            "Epoch 249/256\n",
            "40/40 [==============================] - 0s 2ms/step - loss: 0.1586 - accuracy: 0.9417 - val_loss: 0.1019 - val_accuracy: 0.9667\n",
            "Epoch 250/256\n",
            "40/40 [==============================] - 0s 2ms/step - loss: 0.1524 - accuracy: 0.9500 - val_loss: 0.1065 - val_accuracy: 0.9667\n",
            "Epoch 251/256\n",
            "40/40 [==============================] - 0s 2ms/step - loss: 0.1495 - accuracy: 0.9583 - val_loss: 0.1138 - val_accuracy: 1.0000\n",
            "Epoch 252/256\n",
            "40/40 [==============================] - 0s 2ms/step - loss: 0.1393 - accuracy: 0.9583 - val_loss: 0.1347 - val_accuracy: 0.9667\n",
            "Epoch 253/256\n",
            "40/40 [==============================] - 0s 2ms/step - loss: 0.1272 - accuracy: 0.9667 - val_loss: 0.2445 - val_accuracy: 0.9000\n",
            "Epoch 254/256\n",
            "40/40 [==============================] - 0s 2ms/step - loss: 0.1616 - accuracy: 0.9417 - val_loss: 0.1153 - val_accuracy: 0.9667\n",
            "Epoch 255/256\n",
            "40/40 [==============================] - 0s 2ms/step - loss: 0.1478 - accuracy: 0.9583 - val_loss: 0.0980 - val_accuracy: 1.0000\n",
            "Epoch 256/256\n",
            "40/40 [==============================] - 0s 2ms/step - loss: 0.1467 - accuracy: 0.9583 - val_loss: 0.1082 - val_accuracy: 0.9667\n"
          ],
          "name": "stdout"
        },
        {
          "output_type": "execute_result",
          "data": {
            "text/plain": [
              "<tensorflow.python.keras.callbacks.History at 0x7f02adac7ba8>"
            ]
          },
          "metadata": {
            "tags": []
          },
          "execution_count": 14
        }
      ]
    },
    {
      "cell_type": "code",
      "metadata": {
        "id": "5DeXpGmm09j0"
      },
      "source": [
        "y_pred=model.predict(X_test)\n",
        "y_pred=np.argmax(y_pred,axis=-1)"
      ],
      "execution_count": 15,
      "outputs": []
    },
    {
      "cell_type": "code",
      "metadata": {
        "id": "sMiMO7EBEfNj"
      },
      "source": [
        "y_test=np.argmax(y_test,axis=-1)"
      ],
      "execution_count": 16,
      "outputs": []
    },
    {
      "cell_type": "code",
      "metadata": {
        "id": "z014_SJEHFks"
      },
      "source": [
        "from sklearn.metrics import confusion_matrix\n",
        "\n",
        "cmat=confusion_matrix(y_test,y_pred)"
      ],
      "execution_count": 17,
      "outputs": []
    },
    {
      "cell_type": "code",
      "metadata": {
        "id": "patbnPNTHeHn",
        "outputId": "75573b5b-4f46-4b26-f623-74f6b5428751",
        "colab": {
          "base_uri": "https://localhost:8080/"
        }
      },
      "source": [
        "cmat"
      ],
      "execution_count": 18,
      "outputs": [
        {
          "output_type": "execute_result",
          "data": {
            "text/plain": [
              "array([[10,  0,  0],\n",
              "       [ 0,  9,  1],\n",
              "       [ 0,  0, 10]])"
            ]
          },
          "metadata": {
            "tags": []
          },
          "execution_count": 18
        }
      ]
    },
    {
      "cell_type": "code",
      "metadata": {
        "id": "zWuA1GyMHfLu",
        "outputId": "f9eb26b9-7d03-488e-827e-7c2352f650d4",
        "colab": {
          "base_uri": "https://localhost:8080/",
          "height": 457
        }
      },
      "source": [
        "import seaborn as sns\n",
        "\n",
        "sns.set(font_scale=1.2)\n",
        "plt.figure(figsize=(9,7))\n",
        "sns.heatmap(cmat,annot=True,xticklabels=data.target_names,yticklabels=data.target_names)"
      ],
      "execution_count": 19,
      "outputs": [
        {
          "output_type": "execute_result",
          "data": {
            "text/plain": [
              "<matplotlib.axes._subplots.AxesSubplot at 0x7f02aa240c50>"
            ]
          },
          "metadata": {
            "tags": []
          },
          "execution_count": 19
        },
        {
          "output_type": "display_data",
          "data": {
            "image/png": "[encoded data removed]",
            "text/plain": [
              "<Figure size 648x504 with 2 Axes>"
            ]
          },
          "metadata": {
            "tags": []
          }
        }
      ]
    }
  ]
}

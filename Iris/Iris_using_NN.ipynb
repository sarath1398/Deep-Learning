{
  "nbformat": 4,
  "nbformat_minor": 0,
  "metadata": {
    "colab": {
      "name": "Iris_using_NN",
      "provenance": [],
      "collapsed_sections": []
    },
    "kernelspec": {
      "name": "python3",
      "display_name": "Python 3"
    }
  },
  "cells": [
    {
      "cell_type": "code",
      "metadata": {
        "id": "cMlP0oe4pNMV"
      },
      "source": [
        "%matplotlib inline\n",
        "\n",
        "import numpy as np\n",
        "import pandas as pd\n",
        "import matplotlib.pyplot as plt\n",
        "import keras\n",
        "import tensorflow as tf\n",
        "import sklearn"
      ],
      "execution_count": 1,
      "outputs": []
    },
    {
      "cell_type": "code",
      "metadata": {
        "id": "MebhiHm5rcNW"
      },
      "source": [
        "from sklearn.datasets import load_iris\n",
        "\n",
        "data=load_iris()"
      ],
      "execution_count": 2,
      "outputs": []
    },
    {
      "cell_type": "code",
      "metadata": {
        "id": "xUN4CLf2wgQp"
      },
      "source": [
        "X,y=data.data,data.target"
      ],
      "execution_count": 3,
      "outputs": []
    },
    {
      "cell_type": "code",
      "metadata": {
        "id": "lWOS1EGewjYf"
      },
      "source": [
        "from sklearn.preprocessing import Normalizer\n",
        "\n",
        "scaler=Normalizer()\n",
        "X=scaler.fit_transform(X)"
      ],
      "execution_count": 4,
      "outputs": []
    },
    {
      "cell_type": "code",
      "metadata": {
        "id": "yOYmhvLnsPRv"
      },
      "source": [
        "from sklearn.model_selection import train_test_split\n",
        "\n",
        "X_train, X_test, y_train, y_test = train_test_split(X,y,test_size=0.2,random_state=42,stratify=y)"
      ],
      "execution_count": 5,
      "outputs": []
    },
    {
      "cell_type": "code",
      "metadata": {
        "id": "mGEBlKHsy6so"
      },
      "source": [
        "from sklearn.preprocessing import OneHotEncoder\n",
        "\n",
        "encoder=OneHotEncoder()\n",
        "y_train=encoder.fit_transform(y_train.reshape(-1,1)).toarray()\n",
        "y_test=encoder.fit_transform(y_test.reshape(-1,1)).toarray()"
      ],
      "execution_count": 6,
      "outputs": []
    },
    {
      "cell_type": "code",
      "metadata": {
        "id": "JCPkKS5YvS6C"
      },
      "source": [
        "from keras.layers import Dense,Activation,Dropout\n",
        "from keras.models import Sequential\n",
        "\n",
        "model=Sequential()"
      ],
      "execution_count": 7,
      "outputs": []
    },
    {
      "cell_type": "code",
      "metadata": {
        "id": "1GFgoNKBv7Do"
      },
      "source": [
        "model.add(Dense(8,input_shape=(4,),activation='relu'))"
      ],
      "execution_count": 8,
      "outputs": []
    },
    {
      "cell_type": "code",
      "metadata": {
        "id": "D1cHk9FG2ord"
      },
      "source": [
        "model.add(Dense(16,activation='relu'))"
      ],
      "execution_count": 9,
      "outputs": []
    },
    {
      "cell_type": "code",
      "metadata": {
        "id": "u1v2jLVHy0Yb"
      },
      "source": [
        "model.add(Dense(8,activation='relu'))"
      ],
      "execution_count": 10,
      "outputs": []
    },
    {
      "cell_type": "code",
      "metadata": {
        "id": "90ZKCoJN0dAo"
      },
      "source": [
        "model.add(Dense(3,activation='sigmoid'))"
      ],
      "execution_count": 11,
      "outputs": []
    },
    {
      "cell_type": "code",
      "metadata": {
        "id": "2Ux-p1wG0htX",
        "outputId": "9178e8bd-53f1-42e0-9d1f-fcd95046aafb",
        "colab": {
          "base_uri": "https://localhost:8080/"
        }
      },
      "source": [
        "model.summary()"
      ],
      "execution_count": 12,
      "outputs": [
        {
          "output_type": "stream",
          "text": [
            "Model: \"sequential\"\n",
            "_________________________________________________________________\n",
            "Layer (type)                 Output Shape              Param #   \n",
            "=================================================================\n",
            "dense (Dense)                (None, 8)                 40        \n",
            "_________________________________________________________________\n",
            "dense_1 (Dense)              (None, 16)                144       \n",
            "_________________________________________________________________\n",
            "dense_2 (Dense)              (None, 8)                 136       \n",
            "_________________________________________________________________\n",
            "dense_3 (Dense)              (None, 3)                 27        \n",
            "=================================================================\n",
            "Total params: 347\n",
            "Trainable params: 347\n",
            "Non-trainable params: 0\n",
            "_________________________________________________________________\n"
          ],
          "name": "stdout"
        }
      ]
    },
    {
      "cell_type": "code",
      "metadata": {
        "id": "U880ScWz0_Rd"
      },
      "source": [
        "model.compile(optimizer='adam',loss='categorical_crossentropy',metrics=['accuracy'])"
      ],
      "execution_count": 13,
      "outputs": []
    },
    {
      "cell_type": "code",
      "metadata": {
        "id": "OD25oMr70kvV",
        "outputId": "c813dd82-3549-487c-eb2b-49902f238eb1",
        "colab": {
          "base_uri": "https://localhost:8080/"
        }
      },
      "source": [
        "model.fit(X_train,y_train,epochs=256,use_multiprocessing=True,validation_data=(X_test,y_test))"
      ],
      "execution_count": 14,
      "outputs": [
        {
          "output_type": "stream",
          "text": [
            "Epoch 1/256\n",
            "4/4 [==============================] - 0s 42ms/step - loss: 1.1166 - accuracy: 0.3167 - val_loss: 1.1148 - val_accuracy: 0.3000\n",
            "Epoch 2/256\n",
            "4/4 [==============================] - 0s 5ms/step - loss: 1.1140 - accuracy: 0.3333 - val_loss: 1.1126 - val_accuracy: 0.3333\n",
            "Epoch 3/256\n",
            "4/4 [==============================] - 0s 7ms/step - loss: 1.1121 - accuracy: 0.3333 - val_loss: 1.1114 - val_accuracy: 0.3333\n",
            "Epoch 4/256\n",
            "4/4 [==============================] - 0s 6ms/step - loss: 1.1108 - accuracy: 0.3333 - val_loss: 1.1103 - val_accuracy: 0.3333\n",
            "Epoch 5/256\n",
            "4/4 [==============================] - 0s 6ms/step - loss: 1.1097 - accuracy: 0.3333 - val_loss: 1.1093 - val_accuracy: 0.3333\n",
            "Epoch 6/256\n",
            "4/4 [==============================] - 0s 6ms/step - loss: 1.1086 - accuracy: 0.3333 - val_loss: 1.1082 - val_accuracy: 0.3333\n",
            "Epoch 7/256\n",
            "4/4 [==============================] - 0s 5ms/step - loss: 1.1076 - accuracy: 0.3333 - val_loss: 1.1070 - val_accuracy: 0.3333\n",
            "Epoch 8/256\n",
            "4/4 [==============================] - 0s 5ms/step - loss: 1.1064 - accuracy: 0.3333 - val_loss: 1.1059 - val_accuracy: 0.3333\n",
            "Epoch 9/256\n",
            "4/4 [==============================] - 0s 5ms/step - loss: 1.1053 - accuracy: 0.3333 - val_loss: 1.1045 - val_accuracy: 0.3333\n",
            "Epoch 10/256\n",
            "4/4 [==============================] - 0s 5ms/step - loss: 1.1038 - accuracy: 0.3333 - val_loss: 1.1030 - val_accuracy: 0.3333\n",
            "Epoch 11/256\n",
            "4/4 [==============================] - 0s 5ms/step - loss: 1.1024 - accuracy: 0.3333 - val_loss: 1.1016 - val_accuracy: 0.3333\n",
            "Epoch 12/256\n",
            "4/4 [==============================] - 0s 5ms/step - loss: 1.1005 - accuracy: 0.3333 - val_loss: 1.0992 - val_accuracy: 0.3333\n",
            "Epoch 13/256\n",
            "4/4 [==============================] - 0s 7ms/step - loss: 1.0979 - accuracy: 0.3333 - val_loss: 1.0960 - val_accuracy: 0.3333\n",
            "Epoch 14/256\n",
            "4/4 [==============================] - 0s 6ms/step - loss: 1.0945 - accuracy: 0.3333 - val_loss: 1.0932 - val_accuracy: 0.3333\n",
            "Epoch 15/256\n",
            "4/4 [==============================] - 0s 7ms/step - loss: 1.0926 - accuracy: 0.3333 - val_loss: 1.0919 - val_accuracy: 0.3333\n",
            "Epoch 16/256\n",
            "4/4 [==============================] - 0s 5ms/step - loss: 1.0911 - accuracy: 0.3333 - val_loss: 1.0904 - val_accuracy: 0.3333\n",
            "Epoch 17/256\n",
            "4/4 [==============================] - 0s 5ms/step - loss: 1.0896 - accuracy: 0.3333 - val_loss: 1.0887 - val_accuracy: 0.3333\n",
            "Epoch 18/256\n",
            "4/4 [==============================] - 0s 5ms/step - loss: 1.0880 - accuracy: 0.3333 - val_loss: 1.0870 - val_accuracy: 0.3333\n",
            "Epoch 19/256\n",
            "4/4 [==============================] - 0s 5ms/step - loss: 1.0864 - accuracy: 0.3333 - val_loss: 1.0854 - val_accuracy: 0.3333\n",
            "Epoch 20/256\n",
            "4/4 [==============================] - 0s 5ms/step - loss: 1.0847 - accuracy: 0.3333 - val_loss: 1.0837 - val_accuracy: 0.3333\n",
            "Epoch 21/256\n",
            "4/4 [==============================] - 0s 5ms/step - loss: 1.0830 - accuracy: 0.3333 - val_loss: 1.0819 - val_accuracy: 0.3333\n",
            "Epoch 22/256\n",
            "4/4 [==============================] - 0s 5ms/step - loss: 1.0810 - accuracy: 0.3333 - val_loss: 1.0800 - val_accuracy: 0.3333\n",
            "Epoch 23/256\n",
            "4/4 [==============================] - 0s 6ms/step - loss: 1.0791 - accuracy: 0.3333 - val_loss: 1.0779 - val_accuracy: 0.3333\n",
            "Epoch 24/256\n",
            "4/4 [==============================] - 0s 5ms/step - loss: 1.0770 - accuracy: 0.3333 - val_loss: 1.0757 - val_accuracy: 0.3333\n",
            "Epoch 25/256\n",
            "4/4 [==============================] - 0s 6ms/step - loss: 1.0748 - accuracy: 0.3333 - val_loss: 1.0734 - val_accuracy: 0.3333\n",
            "Epoch 26/256\n",
            "4/4 [==============================] - 0s 6ms/step - loss: 1.0724 - accuracy: 0.3333 - val_loss: 1.0708 - val_accuracy: 0.3333\n",
            "Epoch 27/256\n",
            "4/4 [==============================] - 0s 5ms/step - loss: 1.0699 - accuracy: 0.3333 - val_loss: 1.0682 - val_accuracy: 0.3333\n",
            "Epoch 28/256\n",
            "4/4 [==============================] - 0s 6ms/step - loss: 1.0672 - accuracy: 0.3417 - val_loss: 1.0653 - val_accuracy: 0.3333\n",
            "Epoch 29/256\n",
            "4/4 [==============================] - 0s 6ms/step - loss: 1.0643 - accuracy: 0.3500 - val_loss: 1.0622 - val_accuracy: 0.3333\n",
            "Epoch 30/256\n",
            "4/4 [==============================] - 0s 6ms/step - loss: 1.0612 - accuracy: 0.3500 - val_loss: 1.0589 - val_accuracy: 0.3333\n",
            "Epoch 31/256\n",
            "4/4 [==============================] - 0s 5ms/step - loss: 1.0580 - accuracy: 0.3750 - val_loss: 1.0554 - val_accuracy: 0.3667\n",
            "Epoch 32/256\n",
            "4/4 [==============================] - 0s 6ms/step - loss: 1.0545 - accuracy: 0.4333 - val_loss: 1.0517 - val_accuracy: 0.4333\n",
            "Epoch 33/256\n",
            "4/4 [==============================] - 0s 6ms/step - loss: 1.0507 - accuracy: 0.4833 - val_loss: 1.0478 - val_accuracy: 0.4333\n",
            "Epoch 34/256\n",
            "4/4 [==============================] - 0s 7ms/step - loss: 1.0468 - accuracy: 0.4917 - val_loss: 1.0435 - val_accuracy: 0.5000\n",
            "Epoch 35/256\n",
            "4/4 [==============================] - 0s 7ms/step - loss: 1.0424 - accuracy: 0.5417 - val_loss: 1.0388 - val_accuracy: 0.5333\n",
            "Epoch 36/256\n",
            "4/4 [==============================] - 0s 6ms/step - loss: 1.0379 - accuracy: 0.5750 - val_loss: 1.0339 - val_accuracy: 0.5667\n",
            "Epoch 37/256\n",
            "4/4 [==============================] - 0s 7ms/step - loss: 1.0332 - accuracy: 0.5917 - val_loss: 1.0288 - val_accuracy: 0.5667\n",
            "Epoch 38/256\n",
            "4/4 [==============================] - 0s 7ms/step - loss: 1.0279 - accuracy: 0.5917 - val_loss: 1.0232 - val_accuracy: 0.5333\n",
            "Epoch 39/256\n",
            "4/4 [==============================] - 0s 7ms/step - loss: 1.0224 - accuracy: 0.6250 - val_loss: 1.0174 - val_accuracy: 0.6000\n",
            "Epoch 40/256\n",
            "4/4 [==============================] - 0s 6ms/step - loss: 1.0162 - accuracy: 0.6583 - val_loss: 1.0111 - val_accuracy: 0.6333\n",
            "Epoch 41/256\n",
            "4/4 [==============================] - 0s 6ms/step - loss: 1.0102 - accuracy: 0.6417 - val_loss: 1.0044 - val_accuracy: 0.6333\n",
            "Epoch 42/256\n",
            "4/4 [==============================] - 0s 6ms/step - loss: 1.0034 - accuracy: 0.6667 - val_loss: 0.9974 - val_accuracy: 0.6333\n",
            "Epoch 43/256\n",
            "4/4 [==============================] - 0s 6ms/step - loss: 0.9969 - accuracy: 0.6417 - val_loss: 0.9902 - val_accuracy: 0.6333\n",
            "Epoch 44/256\n",
            "4/4 [==============================] - 0s 6ms/step - loss: 0.9890 - accuracy: 0.6333 - val_loss: 0.9823 - val_accuracy: 0.6333\n",
            "Epoch 45/256\n",
            "4/4 [==============================] - 0s 6ms/step - loss: 0.9816 - accuracy: 0.6750 - val_loss: 0.9740 - val_accuracy: 0.6333\n",
            "Epoch 46/256\n",
            "4/4 [==============================] - 0s 6ms/step - loss: 0.9739 - accuracy: 0.6667 - val_loss: 0.9657 - val_accuracy: 0.6333\n",
            "Epoch 47/256\n",
            "4/4 [==============================] - 0s 6ms/step - loss: 0.9653 - accuracy: 0.6917 - val_loss: 0.9568 - val_accuracy: 0.7000\n",
            "Epoch 48/256\n",
            "4/4 [==============================] - 0s 8ms/step - loss: 0.9571 - accuracy: 0.6917 - val_loss: 0.9484 - val_accuracy: 0.6333\n",
            "Epoch 49/256\n",
            "4/4 [==============================] - 0s 6ms/step - loss: 0.9481 - accuracy: 0.6750 - val_loss: 0.9397 - val_accuracy: 0.6333\n",
            "Epoch 50/256\n",
            "4/4 [==============================] - 0s 6ms/step - loss: 0.9395 - accuracy: 0.6750 - val_loss: 0.9305 - val_accuracy: 0.6333\n",
            "Epoch 51/256\n",
            "4/4 [==============================] - 0s 6ms/step - loss: 0.9308 - accuracy: 0.6833 - val_loss: 0.9213 - val_accuracy: 0.6333\n",
            "Epoch 52/256\n",
            "4/4 [==============================] - 0s 6ms/step - loss: 0.9212 - accuracy: 0.6750 - val_loss: 0.9113 - val_accuracy: 0.7333\n",
            "Epoch 53/256\n",
            "4/4 [==============================] - 0s 6ms/step - loss: 0.9118 - accuracy: 0.6833 - val_loss: 0.9016 - val_accuracy: 0.7333\n",
            "Epoch 54/256\n",
            "4/4 [==============================] - 0s 6ms/step - loss: 0.9023 - accuracy: 0.6833 - val_loss: 0.8922 - val_accuracy: 0.7333\n",
            "Epoch 55/256\n",
            "4/4 [==============================] - 0s 9ms/step - loss: 0.8927 - accuracy: 0.6833 - val_loss: 0.8822 - val_accuracy: 0.7333\n",
            "Epoch 56/256\n",
            "4/4 [==============================] - 0s 8ms/step - loss: 0.8827 - accuracy: 0.6833 - val_loss: 0.8723 - val_accuracy: 0.7333\n",
            "Epoch 57/256\n",
            "4/4 [==============================] - 0s 7ms/step - loss: 0.8732 - accuracy: 0.6833 - val_loss: 0.8623 - val_accuracy: 0.6667\n",
            "Epoch 58/256\n",
            "4/4 [==============================] - 0s 7ms/step - loss: 0.8637 - accuracy: 0.6833 - val_loss: 0.8529 - val_accuracy: 0.6667\n",
            "Epoch 59/256\n",
            "4/4 [==============================] - 0s 6ms/step - loss: 0.8542 - accuracy: 0.6750 - val_loss: 0.8432 - val_accuracy: 0.6667\n",
            "Epoch 60/256\n",
            "4/4 [==============================] - 0s 6ms/step - loss: 0.8446 - accuracy: 0.6750 - val_loss: 0.8335 - val_accuracy: 0.6667\n",
            "Epoch 61/256\n",
            "4/4 [==============================] - 0s 6ms/step - loss: 0.8356 - accuracy: 0.6750 - val_loss: 0.8243 - val_accuracy: 0.6667\n",
            "Epoch 62/256\n",
            "4/4 [==============================] - 0s 7ms/step - loss: 0.8262 - accuracy: 0.7083 - val_loss: 0.8150 - val_accuracy: 0.6667\n",
            "Epoch 63/256\n",
            "4/4 [==============================] - 0s 7ms/step - loss: 0.8172 - accuracy: 0.7000 - val_loss: 0.8061 - val_accuracy: 0.7000\n",
            "Epoch 64/256\n",
            "4/4 [==============================] - 0s 6ms/step - loss: 0.8082 - accuracy: 0.7000 - val_loss: 0.7975 - val_accuracy: 0.7000\n",
            "Epoch 65/256\n",
            "4/4 [==============================] - 0s 6ms/step - loss: 0.7998 - accuracy: 0.6917 - val_loss: 0.7894 - val_accuracy: 0.7000\n",
            "Epoch 66/256\n",
            "4/4 [==============================] - 0s 6ms/step - loss: 0.7915 - accuracy: 0.6917 - val_loss: 0.7813 - val_accuracy: 0.7000\n",
            "Epoch 67/256\n",
            "4/4 [==============================] - 0s 7ms/step - loss: 0.7834 - accuracy: 0.6750 - val_loss: 0.7732 - val_accuracy: 0.6667\n",
            "Epoch 68/256\n",
            "4/4 [==============================] - 0s 7ms/step - loss: 0.7755 - accuracy: 0.6917 - val_loss: 0.7651 - val_accuracy: 0.7333\n",
            "Epoch 69/256\n",
            "4/4 [==============================] - 0s 7ms/step - loss: 0.7681 - accuracy: 0.7167 - val_loss: 0.7576 - val_accuracy: 0.7333\n",
            "Epoch 70/256\n",
            "4/4 [==============================] - 0s 6ms/step - loss: 0.7605 - accuracy: 0.7083 - val_loss: 0.7503 - val_accuracy: 0.7667\n",
            "Epoch 71/256\n",
            "4/4 [==============================] - 0s 7ms/step - loss: 0.7535 - accuracy: 0.7167 - val_loss: 0.7434 - val_accuracy: 0.7333\n",
            "Epoch 72/256\n",
            "4/4 [==============================] - 0s 6ms/step - loss: 0.7463 - accuracy: 0.7083 - val_loss: 0.7367 - val_accuracy: 0.7333\n",
            "Epoch 73/256\n",
            "4/4 [==============================] - 0s 6ms/step - loss: 0.7396 - accuracy: 0.7083 - val_loss: 0.7302 - val_accuracy: 0.7333\n",
            "Epoch 74/256\n",
            "4/4 [==============================] - 0s 6ms/step - loss: 0.7332 - accuracy: 0.7167 - val_loss: 0.7237 - val_accuracy: 0.7000\n",
            "Epoch 75/256\n",
            "4/4 [==============================] - 0s 6ms/step - loss: 0.7266 - accuracy: 0.7083 - val_loss: 0.7175 - val_accuracy: 0.7000\n",
            "Epoch 76/256\n",
            "4/4 [==============================] - 0s 6ms/step - loss: 0.7203 - accuracy: 0.7167 - val_loss: 0.7114 - val_accuracy: 0.7333\n",
            "Epoch 77/256\n",
            "4/4 [==============================] - 0s 6ms/step - loss: 0.7144 - accuracy: 0.7167 - val_loss: 0.7056 - val_accuracy: 0.7000\n",
            "Epoch 78/256\n",
            "4/4 [==============================] - 0s 10ms/step - loss: 0.7084 - accuracy: 0.7000 - val_loss: 0.7000 - val_accuracy: 0.7333\n",
            "Epoch 79/256\n",
            "4/4 [==============================] - 0s 8ms/step - loss: 0.7031 - accuracy: 0.7083 - val_loss: 0.6949 - val_accuracy: 0.7333\n",
            "Epoch 80/256\n",
            "4/4 [==============================] - 0s 6ms/step - loss: 0.6976 - accuracy: 0.7000 - val_loss: 0.6890 - val_accuracy: 0.7333\n",
            "Epoch 81/256\n",
            "4/4 [==============================] - 0s 6ms/step - loss: 0.6918 - accuracy: 0.6833 - val_loss: 0.6839 - val_accuracy: 0.7333\n",
            "Epoch 82/256\n",
            "4/4 [==============================] - 0s 7ms/step - loss: 0.6867 - accuracy: 0.6833 - val_loss: 0.6790 - val_accuracy: 0.7333\n",
            "Epoch 83/256\n",
            "4/4 [==============================] - 0s 6ms/step - loss: 0.6813 - accuracy: 0.6833 - val_loss: 0.6738 - val_accuracy: 0.7333\n",
            "Epoch 84/256\n",
            "4/4 [==============================] - 0s 6ms/step - loss: 0.6767 - accuracy: 0.6750 - val_loss: 0.6688 - val_accuracy: 0.7333\n",
            "Epoch 85/256\n",
            "4/4 [==============================] - 0s 6ms/step - loss: 0.6717 - accuracy: 0.6833 - val_loss: 0.6644 - val_accuracy: 0.7333\n",
            "Epoch 86/256\n",
            "4/4 [==============================] - 0s 6ms/step - loss: 0.6669 - accuracy: 0.6833 - val_loss: 0.6596 - val_accuracy: 0.7333\n",
            "Epoch 87/256\n",
            "4/4 [==============================] - 0s 7ms/step - loss: 0.6621 - accuracy: 0.6750 - val_loss: 0.6552 - val_accuracy: 0.7333\n",
            "Epoch 88/256\n",
            "4/4 [==============================] - 0s 9ms/step - loss: 0.6577 - accuracy: 0.6750 - val_loss: 0.6504 - val_accuracy: 0.7000\n",
            "Epoch 89/256\n",
            "4/4 [==============================] - 0s 7ms/step - loss: 0.6531 - accuracy: 0.6750 - val_loss: 0.6458 - val_accuracy: 0.7000\n",
            "Epoch 90/256\n",
            "4/4 [==============================] - 0s 7ms/step - loss: 0.6484 - accuracy: 0.6667 - val_loss: 0.6417 - val_accuracy: 0.7333\n",
            "Epoch 91/256\n",
            "4/4 [==============================] - 0s 7ms/step - loss: 0.6439 - accuracy: 0.6750 - val_loss: 0.6379 - val_accuracy: 0.7333\n",
            "Epoch 92/256\n",
            "4/4 [==============================] - 0s 6ms/step - loss: 0.6398 - accuracy: 0.6833 - val_loss: 0.6330 - val_accuracy: 0.7333\n",
            "Epoch 93/256\n",
            "4/4 [==============================] - 0s 6ms/step - loss: 0.6351 - accuracy: 0.6667 - val_loss: 0.6286 - val_accuracy: 0.7000\n",
            "Epoch 94/256\n",
            "4/4 [==============================] - 0s 6ms/step - loss: 0.6315 - accuracy: 0.6667 - val_loss: 0.6243 - val_accuracy: 0.6667\n",
            "Epoch 95/256\n",
            "4/4 [==============================] - 0s 6ms/step - loss: 0.6267 - accuracy: 0.6667 - val_loss: 0.6202 - val_accuracy: 0.7000\n",
            "Epoch 96/256\n",
            "4/4 [==============================] - 0s 6ms/step - loss: 0.6226 - accuracy: 0.6750 - val_loss: 0.6169 - val_accuracy: 0.7333\n",
            "Epoch 97/256\n",
            "4/4 [==============================] - 0s 7ms/step - loss: 0.6183 - accuracy: 0.6833 - val_loss: 0.6128 - val_accuracy: 0.7333\n",
            "Epoch 98/256\n",
            "4/4 [==============================] - 0s 7ms/step - loss: 0.6146 - accuracy: 0.6833 - val_loss: 0.6080 - val_accuracy: 0.7000\n",
            "Epoch 99/256\n",
            "4/4 [==============================] - 0s 8ms/step - loss: 0.6096 - accuracy: 0.6750 - val_loss: 0.6040 - val_accuracy: 0.6667\n",
            "Epoch 100/256\n",
            "4/4 [==============================] - 0s 6ms/step - loss: 0.6054 - accuracy: 0.6750 - val_loss: 0.6000 - val_accuracy: 0.6667\n",
            "Epoch 101/256\n",
            "4/4 [==============================] - 0s 8ms/step - loss: 0.6014 - accuracy: 0.6750 - val_loss: 0.5960 - val_accuracy: 0.6667\n",
            "Epoch 102/256\n",
            "4/4 [==============================] - 0s 7ms/step - loss: 0.5971 - accuracy: 0.6750 - val_loss: 0.5924 - val_accuracy: 0.7000\n",
            "Epoch 103/256\n",
            "4/4 [==============================] - 0s 6ms/step - loss: 0.5930 - accuracy: 0.6750 - val_loss: 0.5886 - val_accuracy: 0.7000\n",
            "Epoch 104/256\n",
            "4/4 [==============================] - 0s 6ms/step - loss: 0.5889 - accuracy: 0.6750 - val_loss: 0.5845 - val_accuracy: 0.7000\n",
            "Epoch 105/256\n",
            "4/4 [==============================] - 0s 7ms/step - loss: 0.5848 - accuracy: 0.6833 - val_loss: 0.5804 - val_accuracy: 0.6667\n",
            "Epoch 106/256\n",
            "4/4 [==============================] - 0s 8ms/step - loss: 0.5807 - accuracy: 0.6833 - val_loss: 0.5767 - val_accuracy: 0.7000\n",
            "Epoch 107/256\n",
            "4/4 [==============================] - 0s 9ms/step - loss: 0.5771 - accuracy: 0.6833 - val_loss: 0.5734 - val_accuracy: 0.7333\n",
            "Epoch 108/256\n",
            "4/4 [==============================] - 0s 6ms/step - loss: 0.5732 - accuracy: 0.7000 - val_loss: 0.5687 - val_accuracy: 0.7000\n",
            "Epoch 109/256\n",
            "4/4 [==============================] - 0s 6ms/step - loss: 0.5684 - accuracy: 0.6833 - val_loss: 0.5650 - val_accuracy: 0.7333\n",
            "Epoch 110/256\n",
            "4/4 [==============================] - 0s 6ms/step - loss: 0.5646 - accuracy: 0.7000 - val_loss: 0.5613 - val_accuracy: 0.7333\n",
            "Epoch 111/256\n",
            "4/4 [==============================] - 0s 6ms/step - loss: 0.5605 - accuracy: 0.7000 - val_loss: 0.5573 - val_accuracy: 0.7333\n",
            "Epoch 112/256\n",
            "4/4 [==============================] - 0s 8ms/step - loss: 0.5570 - accuracy: 0.6917 - val_loss: 0.5532 - val_accuracy: 0.7333\n",
            "Epoch 113/256\n",
            "4/4 [==============================] - 0s 11ms/step - loss: 0.5535 - accuracy: 0.7000 - val_loss: 0.5501 - val_accuracy: 0.7333\n",
            "Epoch 114/256\n",
            "4/4 [==============================] - 0s 6ms/step - loss: 0.5488 - accuracy: 0.7167 - val_loss: 0.5461 - val_accuracy: 0.7333\n",
            "Epoch 115/256\n",
            "4/4 [==============================] - 0s 6ms/step - loss: 0.5449 - accuracy: 0.7167 - val_loss: 0.5423 - val_accuracy: 0.7333\n",
            "Epoch 116/256\n",
            "4/4 [==============================] - 0s 6ms/step - loss: 0.5411 - accuracy: 0.7167 - val_loss: 0.5386 - val_accuracy: 0.7333\n",
            "Epoch 117/256\n",
            "4/4 [==============================] - 0s 6ms/step - loss: 0.5378 - accuracy: 0.7167 - val_loss: 0.5347 - val_accuracy: 0.7333\n",
            "Epoch 118/256\n",
            "4/4 [==============================] - 0s 7ms/step - loss: 0.5335 - accuracy: 0.7333 - val_loss: 0.5314 - val_accuracy: 0.7667\n",
            "Epoch 119/256\n",
            "4/4 [==============================] - 0s 9ms/step - loss: 0.5301 - accuracy: 0.7417 - val_loss: 0.5278 - val_accuracy: 0.7667\n",
            "Epoch 120/256\n",
            "4/4 [==============================] - 0s 8ms/step - loss: 0.5260 - accuracy: 0.7417 - val_loss: 0.5246 - val_accuracy: 0.7667\n",
            "Epoch 121/256\n",
            "4/4 [==============================] - 0s 7ms/step - loss: 0.5227 - accuracy: 0.7667 - val_loss: 0.5209 - val_accuracy: 0.8000\n",
            "Epoch 122/256\n",
            "4/4 [==============================] - 0s 7ms/step - loss: 0.5189 - accuracy: 0.7667 - val_loss: 0.5171 - val_accuracy: 0.8000\n",
            "Epoch 123/256\n",
            "4/4 [==============================] - 0s 7ms/step - loss: 0.5154 - accuracy: 0.7583 - val_loss: 0.5132 - val_accuracy: 0.7667\n",
            "Epoch 124/256\n",
            "4/4 [==============================] - 0s 6ms/step - loss: 0.5123 - accuracy: 0.7500 - val_loss: 0.5096 - val_accuracy: 0.7667\n",
            "Epoch 125/256\n",
            "4/4 [==============================] - 0s 7ms/step - loss: 0.5082 - accuracy: 0.7667 - val_loss: 0.5064 - val_accuracy: 0.8333\n",
            "Epoch 126/256\n",
            "4/4 [==============================] - 0s 7ms/step - loss: 0.5044 - accuracy: 0.7833 - val_loss: 0.5035 - val_accuracy: 0.8667\n",
            "Epoch 127/256\n",
            "4/4 [==============================] - 0s 7ms/step - loss: 0.5015 - accuracy: 0.7917 - val_loss: 0.4998 - val_accuracy: 0.8667\n",
            "Epoch 128/256\n",
            "4/4 [==============================] - 0s 8ms/step - loss: 0.4978 - accuracy: 0.8083 - val_loss: 0.4969 - val_accuracy: 0.8667\n",
            "Epoch 129/256\n",
            "4/4 [==============================] - 0s 8ms/step - loss: 0.4944 - accuracy: 0.8333 - val_loss: 0.4935 - val_accuracy: 0.8667\n",
            "Epoch 130/256\n",
            "4/4 [==============================] - 0s 6ms/step - loss: 0.4906 - accuracy: 0.8250 - val_loss: 0.4894 - val_accuracy: 0.8667\n",
            "Epoch 131/256\n",
            "4/4 [==============================] - 0s 7ms/step - loss: 0.4872 - accuracy: 0.8167 - val_loss: 0.4859 - val_accuracy: 0.8667\n",
            "Epoch 132/256\n",
            "4/4 [==============================] - 0s 8ms/step - loss: 0.4861 - accuracy: 0.8167 - val_loss: 0.4824 - val_accuracy: 0.8667\n",
            "Epoch 133/256\n",
            "4/4 [==============================] - 0s 8ms/step - loss: 0.4809 - accuracy: 0.8250 - val_loss: 0.4798 - val_accuracy: 0.8667\n",
            "Epoch 134/256\n",
            "4/4 [==============================] - 0s 7ms/step - loss: 0.4773 - accuracy: 0.8250 - val_loss: 0.4771 - val_accuracy: 0.8667\n",
            "Epoch 135/256\n",
            "4/4 [==============================] - 0s 9ms/step - loss: 0.4742 - accuracy: 0.8417 - val_loss: 0.4746 - val_accuracy: 0.8667\n",
            "Epoch 136/256\n",
            "4/4 [==============================] - 0s 6ms/step - loss: 0.4712 - accuracy: 0.8417 - val_loss: 0.4706 - val_accuracy: 0.8667\n",
            "Epoch 137/256\n",
            "4/4 [==============================] - 0s 8ms/step - loss: 0.4685 - accuracy: 0.8500 - val_loss: 0.4671 - val_accuracy: 0.8667\n",
            "Epoch 138/256\n",
            "4/4 [==============================] - 0s 8ms/step - loss: 0.4653 - accuracy: 0.8500 - val_loss: 0.4641 - val_accuracy: 0.8667\n",
            "Epoch 139/256\n",
            "4/4 [==============================] - 0s 8ms/step - loss: 0.4614 - accuracy: 0.8500 - val_loss: 0.4616 - val_accuracy: 0.8667\n",
            "Epoch 140/256\n",
            "4/4 [==============================] - 0s 8ms/step - loss: 0.4584 - accuracy: 0.8500 - val_loss: 0.4589 - val_accuracy: 0.8667\n",
            "Epoch 141/256\n",
            "4/4 [==============================] - 0s 7ms/step - loss: 0.4558 - accuracy: 0.8583 - val_loss: 0.4558 - val_accuracy: 0.8667\n",
            "Epoch 142/256\n",
            "4/4 [==============================] - 0s 6ms/step - loss: 0.4537 - accuracy: 0.8500 - val_loss: 0.4526 - val_accuracy: 0.8667\n",
            "Epoch 143/256\n",
            "4/4 [==============================] - 0s 9ms/step - loss: 0.4500 - accuracy: 0.8500 - val_loss: 0.4504 - val_accuracy: 0.9000\n",
            "Epoch 144/256\n",
            "4/4 [==============================] - 0s 7ms/step - loss: 0.4472 - accuracy: 0.8667 - val_loss: 0.4474 - val_accuracy: 0.9000\n",
            "Epoch 145/256\n",
            "4/4 [==============================] - 0s 8ms/step - loss: 0.4450 - accuracy: 0.8667 - val_loss: 0.4454 - val_accuracy: 0.9000\n",
            "Epoch 146/256\n",
            "4/4 [==============================] - 0s 7ms/step - loss: 0.4417 - accuracy: 0.8667 - val_loss: 0.4418 - val_accuracy: 0.9000\n",
            "Epoch 147/256\n",
            "4/4 [==============================] - 0s 6ms/step - loss: 0.4389 - accuracy: 0.8667 - val_loss: 0.4389 - val_accuracy: 0.8667\n",
            "Epoch 148/256\n",
            "4/4 [==============================] - 0s 6ms/step - loss: 0.4367 - accuracy: 0.8667 - val_loss: 0.4364 - val_accuracy: 0.9000\n",
            "Epoch 149/256\n",
            "4/4 [==============================] - 0s 8ms/step - loss: 0.4336 - accuracy: 0.8667 - val_loss: 0.4339 - val_accuracy: 0.9000\n",
            "Epoch 150/256\n",
            "4/4 [==============================] - 0s 7ms/step - loss: 0.4311 - accuracy: 0.8667 - val_loss: 0.4316 - val_accuracy: 0.9000\n",
            "Epoch 151/256\n",
            "4/4 [==============================] - 0s 7ms/step - loss: 0.4292 - accuracy: 0.8667 - val_loss: 0.4298 - val_accuracy: 0.9000\n",
            "Epoch 152/256\n",
            "4/4 [==============================] - 0s 8ms/step - loss: 0.4264 - accuracy: 0.8667 - val_loss: 0.4265 - val_accuracy: 0.9000\n",
            "Epoch 153/256\n",
            "4/4 [==============================] - 0s 6ms/step - loss: 0.4240 - accuracy: 0.8667 - val_loss: 0.4239 - val_accuracy: 0.9000\n",
            "Epoch 154/256\n",
            "4/4 [==============================] - 0s 7ms/step - loss: 0.4214 - accuracy: 0.8667 - val_loss: 0.4213 - val_accuracy: 0.9000\n",
            "Epoch 155/256\n",
            "4/4 [==============================] - 0s 9ms/step - loss: 0.4189 - accuracy: 0.8667 - val_loss: 0.4192 - val_accuracy: 0.9000\n",
            "Epoch 156/256\n",
            "4/4 [==============================] - 0s 7ms/step - loss: 0.4161 - accuracy: 0.8833 - val_loss: 0.4173 - val_accuracy: 0.9000\n",
            "Epoch 157/256\n",
            "4/4 [==============================] - 0s 8ms/step - loss: 0.4158 - accuracy: 0.9000 - val_loss: 0.4168 - val_accuracy: 0.9000\n",
            "Epoch 158/256\n",
            "4/4 [==============================] - 0s 7ms/step - loss: 0.4127 - accuracy: 0.9083 - val_loss: 0.4123 - val_accuracy: 0.9000\n",
            "Epoch 159/256\n",
            "4/4 [==============================] - 0s 6ms/step - loss: 0.4097 - accuracy: 0.8917 - val_loss: 0.4101 - val_accuracy: 0.9000\n",
            "Epoch 160/256\n",
            "4/4 [==============================] - 0s 8ms/step - loss: 0.4075 - accuracy: 0.8833 - val_loss: 0.4077 - val_accuracy: 0.9000\n",
            "Epoch 161/256\n",
            "4/4 [==============================] - 0s 8ms/step - loss: 0.4056 - accuracy: 0.8833 - val_loss: 0.4056 - val_accuracy: 0.9000\n",
            "Epoch 162/256\n",
            "4/4 [==============================] - 0s 8ms/step - loss: 0.4032 - accuracy: 0.9083 - val_loss: 0.4038 - val_accuracy: 0.9000\n",
            "Epoch 163/256\n",
            "4/4 [==============================] - 0s 6ms/step - loss: 0.4020 - accuracy: 0.9250 - val_loss: 0.4036 - val_accuracy: 0.9000\n",
            "Epoch 164/256\n",
            "4/4 [==============================] - 0s 8ms/step - loss: 0.3993 - accuracy: 0.9250 - val_loss: 0.4003 - val_accuracy: 0.9000\n",
            "Epoch 165/256\n",
            "4/4 [==============================] - 0s 7ms/step - loss: 0.3972 - accuracy: 0.9167 - val_loss: 0.3974 - val_accuracy: 0.9000\n",
            "Epoch 166/256\n",
            "4/4 [==============================] - 0s 7ms/step - loss: 0.3955 - accuracy: 0.9083 - val_loss: 0.3953 - val_accuracy: 0.9000\n",
            "Epoch 167/256\n",
            "4/4 [==============================] - 0s 7ms/step - loss: 0.3932 - accuracy: 0.9083 - val_loss: 0.3944 - val_accuracy: 0.9000\n",
            "Epoch 168/256\n",
            "4/4 [==============================] - 0s 7ms/step - loss: 0.3913 - accuracy: 0.9250 - val_loss: 0.3929 - val_accuracy: 0.9000\n",
            "Epoch 169/256\n",
            "4/4 [==============================] - 0s 8ms/step - loss: 0.3895 - accuracy: 0.9250 - val_loss: 0.3901 - val_accuracy: 0.9000\n",
            "Epoch 170/256\n",
            "4/4 [==============================] - 0s 7ms/step - loss: 0.3878 - accuracy: 0.9250 - val_loss: 0.3888 - val_accuracy: 0.9000\n",
            "Epoch 171/256\n",
            "4/4 [==============================] - 0s 7ms/step - loss: 0.3853 - accuracy: 0.9250 - val_loss: 0.3863 - val_accuracy: 0.9000\n",
            "Epoch 172/256\n",
            "4/4 [==============================] - 0s 7ms/step - loss: 0.3839 - accuracy: 0.9167 - val_loss: 0.3840 - val_accuracy: 0.9000\n",
            "Epoch 173/256\n",
            "4/4 [==============================] - 0s 8ms/step - loss: 0.3820 - accuracy: 0.9167 - val_loss: 0.3824 - val_accuracy: 0.9000\n",
            "Epoch 174/256\n",
            "4/4 [==============================] - 0s 7ms/step - loss: 0.3804 - accuracy: 0.9250 - val_loss: 0.3823 - val_accuracy: 0.9000\n",
            "Epoch 175/256\n",
            "4/4 [==============================] - 0s 8ms/step - loss: 0.3786 - accuracy: 0.9333 - val_loss: 0.3804 - val_accuracy: 0.9000\n",
            "Epoch 176/256\n",
            "4/4 [==============================] - 0s 7ms/step - loss: 0.3767 - accuracy: 0.9333 - val_loss: 0.3776 - val_accuracy: 0.9000\n",
            "Epoch 177/256\n",
            "4/4 [==============================] - 0s 6ms/step - loss: 0.3748 - accuracy: 0.9250 - val_loss: 0.3756 - val_accuracy: 0.9000\n",
            "Epoch 178/256\n",
            "4/4 [==============================] - 0s 6ms/step - loss: 0.3737 - accuracy: 0.9250 - val_loss: 0.3737 - val_accuracy: 0.9000\n",
            "Epoch 179/256\n",
            "4/4 [==============================] - 0s 6ms/step - loss: 0.3724 - accuracy: 0.9333 - val_loss: 0.3737 - val_accuracy: 0.9333\n",
            "Epoch 180/256\n",
            "4/4 [==============================] - 0s 7ms/step - loss: 0.3706 - accuracy: 0.9333 - val_loss: 0.3720 - val_accuracy: 0.9333\n",
            "Epoch 181/256\n",
            "4/4 [==============================] - 0s 7ms/step - loss: 0.3693 - accuracy: 0.9333 - val_loss: 0.3686 - val_accuracy: 0.9000\n",
            "Epoch 182/256\n",
            "4/4 [==============================] - 0s 8ms/step - loss: 0.3675 - accuracy: 0.9250 - val_loss: 0.3671 - val_accuracy: 0.9000\n",
            "Epoch 183/256\n",
            "4/4 [==============================] - 0s 8ms/step - loss: 0.3652 - accuracy: 0.9333 - val_loss: 0.3665 - val_accuracy: 0.9333\n",
            "Epoch 184/256\n",
            "4/4 [==============================] - 0s 7ms/step - loss: 0.3655 - accuracy: 0.9333 - val_loss: 0.3662 - val_accuracy: 0.9333\n",
            "Epoch 185/256\n",
            "4/4 [==============================] - 0s 6ms/step - loss: 0.3622 - accuracy: 0.9417 - val_loss: 0.3626 - val_accuracy: 0.9000\n",
            "Epoch 186/256\n",
            "4/4 [==============================] - 0s 7ms/step - loss: 0.3611 - accuracy: 0.9333 - val_loss: 0.3608 - val_accuracy: 0.9000\n",
            "Epoch 187/256\n",
            "4/4 [==============================] - 0s 7ms/step - loss: 0.3597 - accuracy: 0.9333 - val_loss: 0.3592 - val_accuracy: 0.9000\n",
            "Epoch 188/256\n",
            "4/4 [==============================] - 0s 7ms/step - loss: 0.3586 - accuracy: 0.9333 - val_loss: 0.3580 - val_accuracy: 0.9333\n",
            "Epoch 189/256\n",
            "4/4 [==============================] - 0s 8ms/step - loss: 0.3582 - accuracy: 0.9333 - val_loss: 0.3562 - val_accuracy: 0.9000\n",
            "Epoch 190/256\n",
            "4/4 [==============================] - 0s 6ms/step - loss: 0.3551 - accuracy: 0.9333 - val_loss: 0.3557 - val_accuracy: 0.9333\n",
            "Epoch 191/256\n",
            "4/4 [==============================] - 0s 9ms/step - loss: 0.3540 - accuracy: 0.9500 - val_loss: 0.3550 - val_accuracy: 0.9333\n",
            "Epoch 192/256\n",
            "4/4 [==============================] - 0s 8ms/step - loss: 0.3525 - accuracy: 0.9500 - val_loss: 0.3530 - val_accuracy: 0.9333\n",
            "Epoch 193/256\n",
            "4/4 [==============================] - 0s 7ms/step - loss: 0.3511 - accuracy: 0.9417 - val_loss: 0.3514 - val_accuracy: 0.9333\n",
            "Epoch 194/256\n",
            "4/4 [==============================] - 0s 7ms/step - loss: 0.3494 - accuracy: 0.9417 - val_loss: 0.3496 - val_accuracy: 0.9333\n",
            "Epoch 195/256\n",
            "4/4 [==============================] - 0s 7ms/step - loss: 0.3481 - accuracy: 0.9333 - val_loss: 0.3482 - val_accuracy: 0.9333\n",
            "Epoch 196/256\n",
            "4/4 [==============================] - 0s 8ms/step - loss: 0.3469 - accuracy: 0.9333 - val_loss: 0.3467 - val_accuracy: 0.9333\n",
            "Epoch 197/256\n",
            "4/4 [==============================] - 0s 7ms/step - loss: 0.3455 - accuracy: 0.9417 - val_loss: 0.3455 - val_accuracy: 0.9333\n",
            "Epoch 198/256\n",
            "4/4 [==============================] - 0s 7ms/step - loss: 0.3443 - accuracy: 0.9500 - val_loss: 0.3443 - val_accuracy: 0.9333\n",
            "Epoch 199/256\n",
            "4/4 [==============================] - 0s 8ms/step - loss: 0.3431 - accuracy: 0.9500 - val_loss: 0.3431 - val_accuracy: 0.9333\n",
            "Epoch 200/256\n",
            "4/4 [==============================] - 0s 8ms/step - loss: 0.3418 - accuracy: 0.9500 - val_loss: 0.3417 - val_accuracy: 0.9333\n",
            "Epoch 201/256\n",
            "4/4 [==============================] - 0s 8ms/step - loss: 0.3407 - accuracy: 0.9500 - val_loss: 0.3402 - val_accuracy: 0.9333\n",
            "Epoch 202/256\n",
            "4/4 [==============================] - 0s 7ms/step - loss: 0.3396 - accuracy: 0.9500 - val_loss: 0.3391 - val_accuracy: 0.9333\n",
            "Epoch 203/256\n",
            "4/4 [==============================] - 0s 8ms/step - loss: 0.3384 - accuracy: 0.9500 - val_loss: 0.3378 - val_accuracy: 0.9333\n",
            "Epoch 204/256\n",
            "4/4 [==============================] - 0s 8ms/step - loss: 0.3382 - accuracy: 0.9417 - val_loss: 0.3362 - val_accuracy: 0.9333\n",
            "Epoch 205/256\n",
            "4/4 [==============================] - 0s 8ms/step - loss: 0.3357 - accuracy: 0.9500 - val_loss: 0.3352 - val_accuracy: 0.9333\n",
            "Epoch 206/256\n",
            "4/4 [==============================] - 0s 7ms/step - loss: 0.3348 - accuracy: 0.9500 - val_loss: 0.3354 - val_accuracy: 0.9333\n",
            "Epoch 207/256\n",
            "4/4 [==============================] - 0s 9ms/step - loss: 0.3344 - accuracy: 0.9500 - val_loss: 0.3341 - val_accuracy: 0.9333\n",
            "Epoch 208/256\n",
            "4/4 [==============================] - 0s 7ms/step - loss: 0.3331 - accuracy: 0.9500 - val_loss: 0.3314 - val_accuracy: 0.9333\n",
            "Epoch 209/256\n",
            "4/4 [==============================] - 0s 7ms/step - loss: 0.3313 - accuracy: 0.9500 - val_loss: 0.3302 - val_accuracy: 0.9333\n",
            "Epoch 210/256\n",
            "4/4 [==============================] - 0s 8ms/step - loss: 0.3303 - accuracy: 0.9500 - val_loss: 0.3290 - val_accuracy: 0.9333\n",
            "Epoch 211/256\n",
            "4/4 [==============================] - 0s 7ms/step - loss: 0.3291 - accuracy: 0.9500 - val_loss: 0.3279 - val_accuracy: 0.9333\n",
            "Epoch 212/256\n",
            "4/4 [==============================] - 0s 8ms/step - loss: 0.3288 - accuracy: 0.9500 - val_loss: 0.3275 - val_accuracy: 0.9333\n",
            "Epoch 213/256\n",
            "4/4 [==============================] - 0s 7ms/step - loss: 0.3270 - accuracy: 0.9500 - val_loss: 0.3259 - val_accuracy: 0.9333\n",
            "Epoch 214/256\n",
            "4/4 [==============================] - 0s 8ms/step - loss: 0.3261 - accuracy: 0.9500 - val_loss: 0.3242 - val_accuracy: 0.9333\n",
            "Epoch 215/256\n",
            "4/4 [==============================] - 0s 6ms/step - loss: 0.3251 - accuracy: 0.9500 - val_loss: 0.3234 - val_accuracy: 0.9333\n",
            "Epoch 216/256\n",
            "4/4 [==============================] - 0s 10ms/step - loss: 0.3239 - accuracy: 0.9500 - val_loss: 0.3226 - val_accuracy: 0.9333\n",
            "Epoch 217/256\n",
            "4/4 [==============================] - 0s 8ms/step - loss: 0.3228 - accuracy: 0.9500 - val_loss: 0.3214 - val_accuracy: 0.9333\n",
            "Epoch 218/256\n",
            "4/4 [==============================] - 0s 7ms/step - loss: 0.3222 - accuracy: 0.9500 - val_loss: 0.3201 - val_accuracy: 0.9333\n",
            "Epoch 219/256\n",
            "4/4 [==============================] - 0s 7ms/step - loss: 0.3209 - accuracy: 0.9500 - val_loss: 0.3191 - val_accuracy: 0.9333\n",
            "Epoch 220/256\n",
            "4/4 [==============================] - 0s 9ms/step - loss: 0.3226 - accuracy: 0.9500 - val_loss: 0.3200 - val_accuracy: 0.9667\n",
            "Epoch 221/256\n",
            "4/4 [==============================] - 0s 8ms/step - loss: 0.3195 - accuracy: 0.9583 - val_loss: 0.3177 - val_accuracy: 0.9333\n",
            "Epoch 222/256\n",
            "4/4 [==============================] - 0s 8ms/step - loss: 0.3171 - accuracy: 0.9583 - val_loss: 0.3154 - val_accuracy: 0.9333\n",
            "Epoch 223/256\n",
            "4/4 [==============================] - 0s 7ms/step - loss: 0.3175 - accuracy: 0.9500 - val_loss: 0.3147 - val_accuracy: 0.9333\n",
            "Epoch 224/256\n",
            "4/4 [==============================] - 0s 7ms/step - loss: 0.3174 - accuracy: 0.9500 - val_loss: 0.3132 - val_accuracy: 0.9333\n",
            "Epoch 225/256\n",
            "4/4 [==============================] - 0s 7ms/step - loss: 0.3150 - accuracy: 0.9500 - val_loss: 0.3132 - val_accuracy: 0.9333\n",
            "Epoch 226/256\n",
            "4/4 [==============================] - 0s 8ms/step - loss: 0.3139 - accuracy: 0.9583 - val_loss: 0.3132 - val_accuracy: 0.9667\n",
            "Epoch 227/256\n",
            "4/4 [==============================] - 0s 8ms/step - loss: 0.3142 - accuracy: 0.9583 - val_loss: 0.3125 - val_accuracy: 0.9667\n",
            "Epoch 228/256\n",
            "4/4 [==============================] - 0s 7ms/step - loss: 0.3125 - accuracy: 0.9583 - val_loss: 0.3103 - val_accuracy: 0.9667\n",
            "Epoch 229/256\n",
            "4/4 [==============================] - 0s 7ms/step - loss: 0.3111 - accuracy: 0.9583 - val_loss: 0.3085 - val_accuracy: 0.9333\n",
            "Epoch 230/256\n",
            "4/4 [==============================] - 0s 8ms/step - loss: 0.3102 - accuracy: 0.9583 - val_loss: 0.3072 - val_accuracy: 0.9333\n",
            "Epoch 231/256\n",
            "4/4 [==============================] - 0s 8ms/step - loss: 0.3095 - accuracy: 0.9583 - val_loss: 0.3061 - val_accuracy: 0.9333\n",
            "Epoch 232/256\n",
            "4/4 [==============================] - 0s 8ms/step - loss: 0.3088 - accuracy: 0.9500 - val_loss: 0.3051 - val_accuracy: 0.9333\n",
            "Epoch 233/256\n",
            "4/4 [==============================] - 0s 8ms/step - loss: 0.3079 - accuracy: 0.9500 - val_loss: 0.3043 - val_accuracy: 0.9333\n",
            "Epoch 234/256\n",
            "4/4 [==============================] - 0s 7ms/step - loss: 0.3076 - accuracy: 0.9583 - val_loss: 0.3045 - val_accuracy: 0.9667\n",
            "Epoch 235/256\n",
            "4/4 [==============================] - 0s 7ms/step - loss: 0.3071 - accuracy: 0.9583 - val_loss: 0.3040 - val_accuracy: 0.9667\n",
            "Epoch 236/256\n",
            "4/4 [==============================] - 0s 7ms/step - loss: 0.3055 - accuracy: 0.9583 - val_loss: 0.3022 - val_accuracy: 0.9667\n",
            "Epoch 237/256\n",
            "4/4 [==============================] - 0s 7ms/step - loss: 0.3048 - accuracy: 0.9583 - val_loss: 0.3002 - val_accuracy: 0.9333\n",
            "Epoch 238/256\n",
            "4/4 [==============================] - 0s 7ms/step - loss: 0.3044 - accuracy: 0.9583 - val_loss: 0.2997 - val_accuracy: 0.9333\n",
            "Epoch 239/256\n",
            "4/4 [==============================] - 0s 7ms/step - loss: 0.3043 - accuracy: 0.9583 - val_loss: 0.2984 - val_accuracy: 0.9333\n",
            "Epoch 240/256\n",
            "4/4 [==============================] - 0s 7ms/step - loss: 0.3021 - accuracy: 0.9583 - val_loss: 0.2990 - val_accuracy: 0.9667\n",
            "Epoch 241/256\n",
            "4/4 [==============================] - 0s 8ms/step - loss: 0.3024 - accuracy: 0.9667 - val_loss: 0.3000 - val_accuracy: 0.9667\n",
            "Epoch 242/256\n",
            "4/4 [==============================] - 0s 9ms/step - loss: 0.3008 - accuracy: 0.9667 - val_loss: 0.2976 - val_accuracy: 0.9667\n",
            "Epoch 243/256\n",
            "4/4 [==============================] - 0s 7ms/step - loss: 0.3000 - accuracy: 0.9667 - val_loss: 0.2948 - val_accuracy: 0.9333\n",
            "Epoch 244/256\n",
            "4/4 [==============================] - 0s 8ms/step - loss: 0.2994 - accuracy: 0.9583 - val_loss: 0.2938 - val_accuracy: 0.9333\n",
            "Epoch 245/256\n",
            "4/4 [==============================] - 0s 7ms/step - loss: 0.2989 - accuracy: 0.9583 - val_loss: 0.2938 - val_accuracy: 0.9667\n",
            "Epoch 246/256\n",
            "4/4 [==============================] - 0s 9ms/step - loss: 0.2971 - accuracy: 0.9583 - val_loss: 0.2938 - val_accuracy: 0.9667\n",
            "Epoch 247/256\n",
            "4/4 [==============================] - 0s 8ms/step - loss: 0.2961 - accuracy: 0.9667 - val_loss: 0.2921 - val_accuracy: 0.9667\n",
            "Epoch 248/256\n",
            "4/4 [==============================] - 0s 9ms/step - loss: 0.2957 - accuracy: 0.9583 - val_loss: 0.2907 - val_accuracy: 0.9667\n",
            "Epoch 249/256\n",
            "4/4 [==============================] - 0s 8ms/step - loss: 0.2945 - accuracy: 0.9583 - val_loss: 0.2899 - val_accuracy: 0.9667\n",
            "Epoch 250/256\n",
            "4/4 [==============================] - 0s 8ms/step - loss: 0.2941 - accuracy: 0.9583 - val_loss: 0.2899 - val_accuracy: 0.9667\n",
            "Epoch 251/256\n",
            "4/4 [==============================] - 0s 6ms/step - loss: 0.2931 - accuracy: 0.9667 - val_loss: 0.2889 - val_accuracy: 0.9667\n",
            "Epoch 252/256\n",
            "4/4 [==============================] - 0s 8ms/step - loss: 0.2920 - accuracy: 0.9583 - val_loss: 0.2875 - val_accuracy: 0.9667\n",
            "Epoch 253/256\n",
            "4/4 [==============================] - 0s 9ms/step - loss: 0.2918 - accuracy: 0.9583 - val_loss: 0.2860 - val_accuracy: 0.9333\n",
            "Epoch 254/256\n",
            "4/4 [==============================] - 0s 8ms/step - loss: 0.2912 - accuracy: 0.9583 - val_loss: 0.2853 - val_accuracy: 0.9667\n",
            "Epoch 255/256\n",
            "4/4 [==============================] - 0s 8ms/step - loss: 0.2906 - accuracy: 0.9583 - val_loss: 0.2844 - val_accuracy: 0.9667\n",
            "Epoch 256/256\n",
            "4/4 [==============================] - 0s 7ms/step - loss: 0.2896 - accuracy: 0.9667 - val_loss: 0.2848 - val_accuracy: 0.9667\n"
          ],
          "name": "stdout"
        },
        {
          "output_type": "execute_result",
          "data": {
            "text/plain": [
              "<tensorflow.python.keras.callbacks.History at 0x7fd4792d0f60>"
            ]
          },
          "metadata": {
            "tags": []
          },
          "execution_count": 14
        }
      ]
    },
    {
      "cell_type": "code",
      "metadata": {
        "id": "5DeXpGmm09j0"
      },
      "source": [
        "y_pred=model.predict(X_test)\n",
        "y_pred=np.argmax(y_pred,axis=-1)"
      ],
      "execution_count": 15,
      "outputs": []
    },
    {
      "cell_type": "code",
      "metadata": {
        "id": "OPZxFmy1F8Rw",
        "outputId": "e6afcba2-eb1b-41a3-dac1-5c283750db5b",
        "colab": {
          "base_uri": "https://localhost:8080/"
        }
      },
      "source": [
        "y_pred"
      ],
      "execution_count": 16,
      "outputs": [
        {
          "output_type": "execute_result",
          "data": {
            "text/plain": [
              "array([0, 2, 1, 1, 0, 1, 0, 0, 2, 2, 2, 2, 2, 1, 0, 0, 0, 1, 1, 2, 0, 2,\n",
              "       1, 2, 2, 1, 1, 0, 2, 0])"
            ]
          },
          "metadata": {
            "tags": []
          },
          "execution_count": 16
        }
      ]
    },
    {
      "cell_type": "code",
      "metadata": {
        "id": "sMiMO7EBEfNj"
      },
      "source": [
        "y_test=np.argmax(y_test,axis=-1)"
      ],
      "execution_count": 18,
      "outputs": []
    },
    {
      "cell_type": "code",
      "metadata": {
        "id": "z014_SJEHFks"
      },
      "source": [
        "from sklearn.metrics import confusion_matrix\n",
        "\n",
        "cmat=confusion_matrix(y_test,y_pred)"
      ],
      "execution_count": 19,
      "outputs": []
    },
    {
      "cell_type": "code",
      "metadata": {
        "id": "patbnPNTHeHn",
        "outputId": "07fd714e-5b5b-42ad-d81f-001aed59d368",
        "colab": {
          "base_uri": "https://localhost:8080/"
        }
      },
      "source": [
        "cmat"
      ],
      "execution_count": 20,
      "outputs": [
        {
          "output_type": "execute_result",
          "data": {
            "text/plain": [
              "array([[10,  0,  0],\n",
              "       [ 0,  9,  1],\n",
              "       [ 0,  0, 10]])"
            ]
          },
          "metadata": {
            "tags": []
          },
          "execution_count": 20
        }
      ]
    },
    {
      "cell_type": "code",
      "metadata": {
        "id": "zWuA1GyMHfLu",
        "outputId": "db9ba581-a01a-4712-cff5-93584b7e8db9",
        "colab": {
          "base_uri": "https://localhost:8080/",
          "height": 457
        }
      },
      "source": [
        "import seaborn as sns\n",
        "\n",
        "sns.set(font_scale=1.2)\n",
        "plt.figure(figsize=(9,7))\n",
        "sns.heatmap(cmat,annot=True)"
      ],
      "execution_count": 22,
      "outputs": [
        {
          "output_type": "execute_result",
          "data": {
            "text/plain": [
              "<matplotlib.axes._subplots.AxesSubplot at 0x7fd474e43978>"
            ]
          },
          "metadata": {
            "tags": []
          },
          "execution_count": 22
        },
        {
          "output_type": "display_data",
          "data": {
            "image/png": "[encoded data removed]",
            "text/plain": [
              "<Figure size 648x504 with 2 Axes>"
            ]
          },
          "metadata": {
            "tags": []
          }
        }
      ]
    },
    {
      "cell_type": "code",
      "metadata": {
        "id": "elpUqfaAH8HZ"
      },
      "source": [
        ""
      ],
      "execution_count": null,
      "outputs": []
    }
  ]
}